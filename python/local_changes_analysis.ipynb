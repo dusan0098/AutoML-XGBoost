{
 "cells": [
  {
   "cell_type": "code",
   "execution_count": 8,
   "metadata": {
    "collapsed": true,
    "pycharm": {
     "name": "#%%\n"
    }
   },
   "outputs": [
    {
     "data": {
      "text/plain": "            parameter  delta(%)  better_auc\n0               alpha       -10           3\n1               alpha        -5           7\n2               alpha        -1           7\n3               alpha         1           9\n4               alpha         5           5\n5               alpha        10           6\n6   colsample_bylevel       -10           6\n7   colsample_bylevel        -5           8\n8   colsample_bylevel        -1           8\n9   colsample_bylevel         1           8\n10  colsample_bylevel         5           6\n11  colsample_bylevel        10           6\n12   colsample_bytree       -10           6\n13   colsample_bytree        -5           6\n14   colsample_bytree        -1           6\n15   colsample_bytree         1           6\n16   colsample_bytree         5           6\n17   colsample_bytree        10           6\n18                eta       -10           5\n19                eta        -5           4\n20                eta        -1           5\n21                eta         1           6\n22                eta         5           7\n23                eta        10           7\n24              gamma       -10           9\n25              gamma        -5           9\n26              gamma        -1           9\n27              gamma         1           9\n28              gamma         5           9\n29              gamma        10           9\n30             lambda       -10           8\n31             lambda        -5           8\n32             lambda        -1           4\n33             lambda         1           5\n34             lambda         5           3\n35             lambda        10           4\n36          max_depth       -10           5\n37          max_depth        -5           6\n38          max_depth        -1           6\n39          max_depth         1           9\n40          max_depth         5           9\n41          max_depth        10           6\n42   min_child_weight       -10           7\n43   min_child_weight        -5           8\n44   min_child_weight        -1           8\n45   min_child_weight         1           8\n46   min_child_weight         5           6\n47   min_child_weight        10           5\n48       n_estimators       -10           3\n49       n_estimators        -5           4\n50       n_estimators        -1           5\n51       n_estimators         1           9\n52       n_estimators         5           5\n53       n_estimators        10           5\n54          subsample       -10           6\n55          subsample        -5           6\n56          subsample        -1           8\n57          subsample         1           6\n58          subsample         5           5\n59          subsample        10           5",
      "text/html": "<div>\n<style scoped>\n    .dataframe tbody tr th:only-of-type {\n        vertical-align: middle;\n    }\n\n    .dataframe tbody tr th {\n        vertical-align: top;\n    }\n\n    .dataframe thead th {\n        text-align: right;\n    }\n</style>\n<table border=\"1\" class=\"dataframe\">\n  <thead>\n    <tr style=\"text-align: right;\">\n      <th></th>\n      <th>parameter</th>\n      <th>delta(%)</th>\n      <th>better_auc</th>\n    </tr>\n  </thead>\n  <tbody>\n    <tr>\n      <th>0</th>\n      <td>alpha</td>\n      <td>-10</td>\n      <td>3</td>\n    </tr>\n    <tr>\n      <th>1</th>\n      <td>alpha</td>\n      <td>-5</td>\n      <td>7</td>\n    </tr>\n    <tr>\n      <th>2</th>\n      <td>alpha</td>\n      <td>-1</td>\n      <td>7</td>\n    </tr>\n    <tr>\n      <th>3</th>\n      <td>alpha</td>\n      <td>1</td>\n      <td>9</td>\n    </tr>\n    <tr>\n      <th>4</th>\n      <td>alpha</td>\n      <td>5</td>\n      <td>5</td>\n    </tr>\n    <tr>\n      <th>5</th>\n      <td>alpha</td>\n      <td>10</td>\n      <td>6</td>\n    </tr>\n    <tr>\n      <th>6</th>\n      <td>colsample_bylevel</td>\n      <td>-10</td>\n      <td>6</td>\n    </tr>\n    <tr>\n      <th>7</th>\n      <td>colsample_bylevel</td>\n      <td>-5</td>\n      <td>8</td>\n    </tr>\n    <tr>\n      <th>8</th>\n      <td>colsample_bylevel</td>\n      <td>-1</td>\n      <td>8</td>\n    </tr>\n    <tr>\n      <th>9</th>\n      <td>colsample_bylevel</td>\n      <td>1</td>\n      <td>8</td>\n    </tr>\n    <tr>\n      <th>10</th>\n      <td>colsample_bylevel</td>\n      <td>5</td>\n      <td>6</td>\n    </tr>\n    <tr>\n      <th>11</th>\n      <td>colsample_bylevel</td>\n      <td>10</td>\n      <td>6</td>\n    </tr>\n    <tr>\n      <th>12</th>\n      <td>colsample_bytree</td>\n      <td>-10</td>\n      <td>6</td>\n    </tr>\n    <tr>\n      <th>13</th>\n      <td>colsample_bytree</td>\n      <td>-5</td>\n      <td>6</td>\n    </tr>\n    <tr>\n      <th>14</th>\n      <td>colsample_bytree</td>\n      <td>-1</td>\n      <td>6</td>\n    </tr>\n    <tr>\n      <th>15</th>\n      <td>colsample_bytree</td>\n      <td>1</td>\n      <td>6</td>\n    </tr>\n    <tr>\n      <th>16</th>\n      <td>colsample_bytree</td>\n      <td>5</td>\n      <td>6</td>\n    </tr>\n    <tr>\n      <th>17</th>\n      <td>colsample_bytree</td>\n      <td>10</td>\n      <td>6</td>\n    </tr>\n    <tr>\n      <th>18</th>\n      <td>eta</td>\n      <td>-10</td>\n      <td>5</td>\n    </tr>\n    <tr>\n      <th>19</th>\n      <td>eta</td>\n      <td>-5</td>\n      <td>4</td>\n    </tr>\n    <tr>\n      <th>20</th>\n      <td>eta</td>\n      <td>-1</td>\n      <td>5</td>\n    </tr>\n    <tr>\n      <th>21</th>\n      <td>eta</td>\n      <td>1</td>\n      <td>6</td>\n    </tr>\n    <tr>\n      <th>22</th>\n      <td>eta</td>\n      <td>5</td>\n      <td>7</td>\n    </tr>\n    <tr>\n      <th>23</th>\n      <td>eta</td>\n      <td>10</td>\n      <td>7</td>\n    </tr>\n    <tr>\n      <th>24</th>\n      <td>gamma</td>\n      <td>-10</td>\n      <td>9</td>\n    </tr>\n    <tr>\n      <th>25</th>\n      <td>gamma</td>\n      <td>-5</td>\n      <td>9</td>\n    </tr>\n    <tr>\n      <th>26</th>\n      <td>gamma</td>\n      <td>-1</td>\n      <td>9</td>\n    </tr>\n    <tr>\n      <th>27</th>\n      <td>gamma</td>\n      <td>1</td>\n      <td>9</td>\n    </tr>\n    <tr>\n      <th>28</th>\n      <td>gamma</td>\n      <td>5</td>\n      <td>9</td>\n    </tr>\n    <tr>\n      <th>29</th>\n      <td>gamma</td>\n      <td>10</td>\n      <td>9</td>\n    </tr>\n    <tr>\n      <th>30</th>\n      <td>lambda</td>\n      <td>-10</td>\n      <td>8</td>\n    </tr>\n    <tr>\n      <th>31</th>\n      <td>lambda</td>\n      <td>-5</td>\n      <td>8</td>\n    </tr>\n    <tr>\n      <th>32</th>\n      <td>lambda</td>\n      <td>-1</td>\n      <td>4</td>\n    </tr>\n    <tr>\n      <th>33</th>\n      <td>lambda</td>\n      <td>1</td>\n      <td>5</td>\n    </tr>\n    <tr>\n      <th>34</th>\n      <td>lambda</td>\n      <td>5</td>\n      <td>3</td>\n    </tr>\n    <tr>\n      <th>35</th>\n      <td>lambda</td>\n      <td>10</td>\n      <td>4</td>\n    </tr>\n    <tr>\n      <th>36</th>\n      <td>max_depth</td>\n      <td>-10</td>\n      <td>5</td>\n    </tr>\n    <tr>\n      <th>37</th>\n      <td>max_depth</td>\n      <td>-5</td>\n      <td>6</td>\n    </tr>\n    <tr>\n      <th>38</th>\n      <td>max_depth</td>\n      <td>-1</td>\n      <td>6</td>\n    </tr>\n    <tr>\n      <th>39</th>\n      <td>max_depth</td>\n      <td>1</td>\n      <td>9</td>\n    </tr>\n    <tr>\n      <th>40</th>\n      <td>max_depth</td>\n      <td>5</td>\n      <td>9</td>\n    </tr>\n    <tr>\n      <th>41</th>\n      <td>max_depth</td>\n      <td>10</td>\n      <td>6</td>\n    </tr>\n    <tr>\n      <th>42</th>\n      <td>min_child_weight</td>\n      <td>-10</td>\n      <td>7</td>\n    </tr>\n    <tr>\n      <th>43</th>\n      <td>min_child_weight</td>\n      <td>-5</td>\n      <td>8</td>\n    </tr>\n    <tr>\n      <th>44</th>\n      <td>min_child_weight</td>\n      <td>-1</td>\n      <td>8</td>\n    </tr>\n    <tr>\n      <th>45</th>\n      <td>min_child_weight</td>\n      <td>1</td>\n      <td>8</td>\n    </tr>\n    <tr>\n      <th>46</th>\n      <td>min_child_weight</td>\n      <td>5</td>\n      <td>6</td>\n    </tr>\n    <tr>\n      <th>47</th>\n      <td>min_child_weight</td>\n      <td>10</td>\n      <td>5</td>\n    </tr>\n    <tr>\n      <th>48</th>\n      <td>n_estimators</td>\n      <td>-10</td>\n      <td>3</td>\n    </tr>\n    <tr>\n      <th>49</th>\n      <td>n_estimators</td>\n      <td>-5</td>\n      <td>4</td>\n    </tr>\n    <tr>\n      <th>50</th>\n      <td>n_estimators</td>\n      <td>-1</td>\n      <td>5</td>\n    </tr>\n    <tr>\n      <th>51</th>\n      <td>n_estimators</td>\n      <td>1</td>\n      <td>9</td>\n    </tr>\n    <tr>\n      <th>52</th>\n      <td>n_estimators</td>\n      <td>5</td>\n      <td>5</td>\n    </tr>\n    <tr>\n      <th>53</th>\n      <td>n_estimators</td>\n      <td>10</td>\n      <td>5</td>\n    </tr>\n    <tr>\n      <th>54</th>\n      <td>subsample</td>\n      <td>-10</td>\n      <td>6</td>\n    </tr>\n    <tr>\n      <th>55</th>\n      <td>subsample</td>\n      <td>-5</td>\n      <td>6</td>\n    </tr>\n    <tr>\n      <th>56</th>\n      <td>subsample</td>\n      <td>-1</td>\n      <td>8</td>\n    </tr>\n    <tr>\n      <th>57</th>\n      <td>subsample</td>\n      <td>1</td>\n      <td>6</td>\n    </tr>\n    <tr>\n      <th>58</th>\n      <td>subsample</td>\n      <td>5</td>\n      <td>5</td>\n    </tr>\n    <tr>\n      <th>59</th>\n      <td>subsample</td>\n      <td>10</td>\n      <td>5</td>\n    </tr>\n  </tbody>\n</table>\n</div>"
     },
     "metadata": {},
     "output_type": "display_data"
    }
   ],
   "source": [
    "\"\"\"\n",
    "    Notebook for analysing results of changing the default configuration parameters by 1,5,10%\n",
    "\"\"\"\n",
    "\n",
    "from IPython.core.display_functions import display\n",
    "import pandas as pd\n",
    "\n",
    "changes = pd.read_csv('./data/local_changes.csv')\n",
    "improved_count = changes.groupby(by=['parameter','delta(%)'])['better_auc'].sum().reset_index()\n",
    "display(improved_count)\n",
    "\n"
   ]
  }
 ],
 "metadata": {
  "kernelspec": {
   "display_name": "Python 3",
   "language": "python",
   "name": "python3"
  },
  "language_info": {
   "codemirror_mode": {
    "name": "ipython",
    "version": 2
   },
   "file_extension": ".py",
   "mimetype": "text/x-python",
   "name": "python",
   "nbconvert_exporter": "python",
   "pygments_lexer": "ipython2",
   "version": "2.7.6"
  }
 },
 "nbformat": 4,
 "nbformat_minor": 0
}