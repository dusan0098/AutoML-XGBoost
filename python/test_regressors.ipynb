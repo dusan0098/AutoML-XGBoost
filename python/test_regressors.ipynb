{
 "cells": [
  {
   "cell_type": "code",
   "execution_count": 1,
   "metadata": {
    "collapsed": true
   },
   "outputs": [],
   "source": [
    "\"\"\"\n",
    "    This notebook was used for debugging the training and evaluation for sklearn models - PRIOR TO INTRODUCING BAYESIAN OPTIMISATION\n",
    "\"\"\""
   ]
  },
  {
   "cell_type": "code",
   "execution_count": null,
   "outputs": [],
   "source": [
    "\"\"\"\n",
    "    Multioutput regression - moved to compare_regressors.py\n",
    "\"\"\"\n",
    "# from python.baseline import XGBoostTest\n",
    "# from python.project_utils import hyperparameters_data,make_valid_config\n",
    "# \n",
    "# def compare_regressor_with_baseline(regressor):\n",
    "#     \"\"\"Extracting data needed for training and prediction\"\"\"\n",
    "#     my_data = MyDataset()\n",
    "#     X_train = my_data.x_train\n",
    "#     y_train = my_data.y_train\n",
    "#     X_test = my_data.x_test\n",
    "# \n",
    "#     \"\"\"Creating predictions with MultiOutput regression model\"\"\"\n",
    "#     reg = MultiOutputRegressor(regressor) #**params\n",
    "#     reg.fit(X_train, y_train)\n",
    "#     predictions = reg.predict(X_test)\n",
    "# \n",
    "#     baseline = pd.read_csv('./data/baseline_performance.csv')\n",
    "#     comparison = pd.DataFrame()\n",
    "#     for j in range(len(predictions)):\n",
    "#         \"\"\"For each of the Test tasks (18 in total) we evaluate the performance of its predicted best config for XGBoost\"\"\"\n",
    "#         current_task = test_ids[j]\n",
    "#         pred = predictions[j]\n",
    "#         seed=123\n",
    "#         \"\"\"We save the performance in a dataframe containing\n",
    "#         task_id\n",
    "#         baseline auc and time\n",
    "#         new auc and time - for the predicted best configuration\n",
    "#         \"\"\"\n",
    "#         new_row = {}\n",
    "#         new_row['task_id'] = current_task\n",
    "#         base_performance = baseline[baseline['task_id']==current_task].head(1)\n",
    "#         new_row['base_auc'] = base_performance['auc'].values[0]\n",
    "#         new_row['base_time'] = base_performance['timetrain'].values[0]\n",
    "#         \"\"\"We convert the model predictions into a dictionary for the HPC\"\"\"\n",
    "#         new_config = {}\n",
    "#         for i in range(len(hyperparameters_data)):\n",
    "#             new_config[hyperparameters_data[i]] = pred[i]\n",
    "#         \"\"\"Corrections to continuous predictions that might not be possible\"\"\"\n",
    "#         new_config = make_valid_config(new_config)\n",
    "# \n",
    "#         \"\"\"Evaluating new config performance\"\"\"\n",
    "#         objective = XGBoostTest(current_task,meta_feature_names = meta_feature_names,seed=seed)\n",
    "#         auc, traintime = objective.evaluate(new_config)\n",
    "# \n",
    "#         \"\"\"Adding info about new performance \"\"\"\n",
    "#         new_row['new_auc'] = auc\n",
    "#         new_row['new_time']= traintime\n",
    "#         new_row['delta_auc'] = new_row['new_auc'] - new_row['base_auc']\n",
    "#         new_row['better_auc'] = new_row['new_auc'] > new_row['base_auc']\n",
    "#         new_row['better_time'] = new_row['new_time'] < new_row['base_time']\n",
    "#         new_row = pd.DataFrame([new_row])\n",
    "#         comparison = pd.concat([comparison, new_row], ignore_index=True)\n",
    "#     return comparison\n",
    "# \n",
    "# "
   ],
   "metadata": {
    "collapsed": false,
    "pycharm": {
     "name": "#%%\n"
    }
   }
  },
  {
   "cell_type": "code",
   "execution_count": null,
   "outputs": [],
   "source": [
    "# default_forest = {\n",
    "#     'n_estimators' : 200,\n",
    "#     'min_samples_split' : 2,\n",
    "#     'min_samples_leaf': 3,\n",
    "#     'max_features' :'sqrt',\n",
    "#    'max_depth': 120,\n",
    "#     'bootstrap':False\n",
    "# }\n",
    "# \n",
    "# default_boosting = {\n",
    "#     \"n_estimators\": 500,\n",
    "#     \"max_depth\": 5, #was 4\n",
    "#     \"min_samples_split\": 2, #was 5\n",
    "#     \"learning_rate\": 0.01\n",
    "#     #\"loss\": \"squared_error\",\n",
    "# }\n",
    "# \n",
    "# compare_regressor_with_baseline(ensemble.RandomForestRegressor(**default_forest))\n",
    "# compare_regressor_with_baseline(ensemble.GradientBoostingRegressor(**default_boosting))"
   ],
   "metadata": {
    "collapsed": false,
    "pycharm": {
     "name": "#%%\n"
    }
   }
  }
 ],
 "metadata": {
  "kernelspec": {
   "display_name": "Python 3",
   "language": "python",
   "name": "python3"
  },
  "language_info": {
   "codemirror_mode": {
    "name": "ipython",
    "version": 2
   },
   "file_extension": ".py",
   "mimetype": "text/x-python",
   "name": "python",
   "nbconvert_exporter": "python",
   "pygments_lexer": "ipython2",
   "version": "2.7.6"
  }
 },
 "nbformat": 4,
 "nbformat_minor": 0
}