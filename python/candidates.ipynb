{
 "cells": [
  {
   "cell_type": "code",
   "execution_count": 2,
   "metadata": {
    "collapsed": true
   },
   "outputs": [],
   "source": [
    "\"\"\"\n",
    "       This notebook was used to extract the metafeatures of the test datasets into the test_features.csv\n",
    "       There are also some sanity checks for MyDataset() and other functions used for data preparation and extracting the top N configurations from the data\n",
    "\"\"\"\n",
    "import pandas as pd\n",
    "import statistics\n",
    "from IPython.display import display\n",
    "import numpy as np\n",
    "from project_utils import  get_task_metafeatures, load_test_data, meta_feature_names, \\\n",
    "    default_config, test_ids, get_best_config_per_task,dataset_to_task, get_test_metafeatures, get_all_metafeatures,get_dataset_to_task"
   ]
  },
  {
   "cell_type": "code",
   "execution_count": null,
   "outputs": [],
   "source": [
    "\"\"\"\n",
    "       Copied from utils\n",
    "\"\"\"\n",
    "hyperparameters = ['num_round', 'eta', 'gamma', 'lambda', 'alpha', 'subsample',\n",
    "       'max_depth', 'min_child_weight', 'colsample_bytree',\n",
    "       'colsample_bylevel']\n",
    "\n",
    "meta_features = ['MajorityClassSize',\n",
    "       'MaxNominalAttDistinctValues', 'MinorityClassSize', 'NumberOfClasses',\n",
    "       'NumberOfFeatures', 'NumberOfInstances',\n",
    "       'NumberOfInstancesWithMissingValues', 'NumberOfMissingValues',\n",
    "       'NumberOfNumericFeatures', 'NumberOfSymbolicFeatures']"
   ],
   "metadata": {
    "collapsed": false,
    "pycharm": {
     "name": "#%%\n"
    }
   }
  },
  {
   "cell_type": "code",
   "execution_count": null,
   "outputs": [],
   "source": [
    "#get the single best performing HPC for each dataset - based on historical data\n",
    "best_configs = get_best_config_per_task()\n",
    "display(best_configs[['data_id','name','avg_auc']])"
   ],
   "metadata": {
    "collapsed": false,
    "pycharm": {
     "name": "#%%\n"
    }
   }
  },
  {
   "cell_type": "code",
   "execution_count": null,
   "outputs": [],
   "source": [
    "display(best_configs[meta_features])\n",
    "display(best_configs[hyperparameters])"
   ],
   "metadata": {
    "collapsed": false,
    "pycharm": {
     "name": "#%%\n"
    }
   }
  },
  {
   "cell_type": "code",
   "execution_count": null,
   "outputs": [],
   "source": [
    "\"\"\"\n",
    "Here we see that there are only 2 missing values both for the meta feature:\n",
    "MaxNominalAttDistinctValues\n",
    "\"\"\"\n",
    "best_configs.isna().sum()"
   ],
   "metadata": {
    "collapsed": false,
    "pycharm": {
     "name": "#%%\n"
    }
   }
  },
  {
   "cell_type": "code",
   "execution_count": null,
   "outputs": [],
   "source": [
    "\"\"\"\n",
    "The best configs all have a runtime under 30minutes (1800seconds)\n",
    "\n",
    "\"\"\"\n",
    "best_configs['avg_time'].sort_values()"
   ],
   "metadata": {
    "collapsed": false,
    "pycharm": {
     "name": "#%%\n"
    }
   }
  },
  {
   "cell_type": "code",
   "execution_count": null,
   "outputs": [],
   "source": [
    "runs = pd.read_csv('./data/xgboost_meta_data.csv')\n",
    "grouped = runs.groupby(by='data_id').first().reset_index()\n",
    "display(grouped)"
   ],
   "metadata": {
    "collapsed": false,
    "pycharm": {
     "name": "#%%\n"
    }
   }
  },
  {
   "cell_type": "code",
   "execution_count": null,
   "outputs": [],
   "source": [
    "test_features = get_test_metafeatures(address='./data/test_features.csv')\n",
    "test_features"
   ],
   "metadata": {
    "collapsed": false,
    "pycharm": {
     "name": "#%%\n"
    }
   }
  },
  {
   "cell_type": "code",
   "execution_count": 3,
   "outputs": [
    {
     "name": "stdout",
     "output_type": "stream",
     "text": [
      "data_id                               0\n",
      "name                                  0\n",
      "status                                0\n",
      "MajorityClassSize                     0\n",
      "MaxNominalAttDistinctValues           0\n",
      "MinorityClassSize                     0\n",
      "NumberOfClasses                       0\n",
      "NumberOfFeatures                      0\n",
      "NumberOfInstances                     0\n",
      "NumberOfInstancesWithMissingValues    0\n",
      "NumberOfMissingValues                 0\n",
      "NumberOfNumericFeatures               0\n",
      "NumberOfSymbolicFeatures              0\n",
      "task_id                               0\n",
      "dtype: int64 name                                  0\n",
      "status                                0\n",
      "MajorityClassSize                     0\n",
      "MaxNominalAttDistinctValues           0\n",
      "MinorityClassSize                     0\n",
      "NumberOfClasses                       0\n",
      "NumberOfFeatures                      0\n",
      "NumberOfInstances                     0\n",
      "NumberOfInstancesWithMissingValues    0\n",
      "NumberOfMissingValues                 0\n",
      "NumberOfNumericFeatures               0\n",
      "NumberOfSymbolicFeatures              0\n",
      "data_id                               0\n",
      "task_id                               0\n",
      "dtype: int64\n"
     ]
    },
    {
     "data": {
      "text/plain": "                                      name  status  MajorityClassSize  \\\n0                           mfeat-karhunen  active              200.0   \n1                            mfeat-zernike  active              200.0   \n2                                 credit-g  active              700.0   \n3                                 satimage  active             1531.0   \n4                               eucalyptus  active              214.0   \n5                         monks-problems-2  active              395.0   \n6                                      mc1  active             9398.0   \n7                                      kc2  active              415.0   \n8                               micro-mass  active               60.0   \n9                                  phoneme  active             3818.0   \n10                                    ilpd  active              416.0   \n11                        CreditCardSubset  active            14217.0   \n12                          cylinder-bands  active              312.0   \n13                                     har  active             1944.0   \n14                                 shuttle  active            45586.0   \n15  jungle_chess_2pcs_raw_endgame_complete  active            23062.0   \n16                 Internet-Advertisements  active             2820.0   \n17                                    kick  active            64007.0   \n\n    MaxNominalAttDistinctValues  MinorityClassSize  NumberOfClasses  \\\n0                          10.0              200.0             10.0   \n1                          10.0              200.0             10.0   \n2                          10.0              300.0              2.0   \n3                           6.0              625.0              6.0   \n4                          27.0              105.0              5.0   \n5                           4.0              206.0              2.0   \n6                           2.0               68.0              2.0   \n7                           2.0              107.0              2.0   \n8                          20.0               11.0             20.0   \n9                           2.0             1586.0              2.0   \n10                          2.0              167.0              2.0   \n11                          2.0               23.0              2.0   \n12                         71.0              228.0              2.0   \n13                          6.0             1406.0              6.0   \n14                          7.0               10.0              7.0   \n15                          3.0             4335.0              3.0   \n16                          2.0              459.0              2.0   \n17                          5.0             8976.0              2.0   \n\n    NumberOfFeatures  NumberOfInstances  NumberOfInstancesWithMissingValues  \\\n0               65.0             2000.0                                 0.0   \n1               48.0             2000.0                                 0.0   \n2               21.0             1000.0                                 0.0   \n3               37.0             6430.0                                 0.0   \n4               20.0              736.0                                95.0   \n5                7.0              601.0                                 0.0   \n6               39.0             9466.0                                 0.0   \n7               22.0              522.0                                 0.0   \n8             1301.0              571.0                                 0.0   \n9                6.0             5404.0                                 0.0   \n10              11.0              583.0                                 0.0   \n11              31.0            14240.0                                 0.0   \n12              40.0              540.0                               263.0   \n13             562.0            10299.0                                 0.0   \n14              10.0            58000.0                                 0.0   \n15               7.0            44819.0                                 0.0   \n16            1559.0             3279.0                                 0.0   \n17              33.0            72983.0                             69709.0   \n\n    NumberOfMissingValues  NumberOfNumericFeatures  NumberOfSymbolicFeatures  \\\n0                     0.0                     64.0                       1.0   \n1                     0.0                     47.0                       1.0   \n2                     0.0                      7.0                      14.0   \n3                     0.0                     36.0                       1.0   \n4                   448.0                     14.0                       6.0   \n5                     0.0                      0.0                       7.0   \n6                     0.0                     38.0                       1.0   \n7                     0.0                     21.0                       1.0   \n8                     0.0                   1300.0                       1.0   \n9                     0.0                      5.0                       1.0   \n10                    0.0                      9.0                       2.0   \n11                    0.0                     30.0                       1.0   \n12                  999.0                     18.0                      22.0   \n13                    0.0                    561.0                       1.0   \n14                    0.0                      9.0                       1.0   \n15                    0.0                      6.0                       1.0   \n16                    0.0                      3.0                    1556.0   \n17               149271.0                     14.0                      19.0   \n\n    data_id   task_id  \n0      16.0      16.0  \n1      22.0      22.0  \n2      31.0      31.0  \n3     182.0    2074.0  \n4     188.0    2079.0  \n5     334.0    3493.0  \n6    1056.0    3907.0  \n7    1063.0    3913.0  \n8    1515.0    9950.0  \n9    1489.0    9952.0  \n10   1480.0    9971.0  \n11   4154.0   10106.0  \n12   6332.0   14954.0  \n13   1478.0   14970.0  \n14  40685.0  146212.0  \n15  41027.0  167119.0  \n16  40978.0  167125.0  \n17  41162.0  168336.0  ",
      "text/html": "<div>\n<style scoped>\n    .dataframe tbody tr th:only-of-type {\n        vertical-align: middle;\n    }\n\n    .dataframe tbody tr th {\n        vertical-align: top;\n    }\n\n    .dataframe thead th {\n        text-align: right;\n    }\n</style>\n<table border=\"1\" class=\"dataframe\">\n  <thead>\n    <tr style=\"text-align: right;\">\n      <th></th>\n      <th>name</th>\n      <th>status</th>\n      <th>MajorityClassSize</th>\n      <th>MaxNominalAttDistinctValues</th>\n      <th>MinorityClassSize</th>\n      <th>NumberOfClasses</th>\n      <th>NumberOfFeatures</th>\n      <th>NumberOfInstances</th>\n      <th>NumberOfInstancesWithMissingValues</th>\n      <th>NumberOfMissingValues</th>\n      <th>NumberOfNumericFeatures</th>\n      <th>NumberOfSymbolicFeatures</th>\n      <th>data_id</th>\n      <th>task_id</th>\n    </tr>\n  </thead>\n  <tbody>\n    <tr>\n      <th>0</th>\n      <td>mfeat-karhunen</td>\n      <td>active</td>\n      <td>200.0</td>\n      <td>10.0</td>\n      <td>200.0</td>\n      <td>10.0</td>\n      <td>65.0</td>\n      <td>2000.0</td>\n      <td>0.0</td>\n      <td>0.0</td>\n      <td>64.0</td>\n      <td>1.0</td>\n      <td>16.0</td>\n      <td>16.0</td>\n    </tr>\n    <tr>\n      <th>1</th>\n      <td>mfeat-zernike</td>\n      <td>active</td>\n      <td>200.0</td>\n      <td>10.0</td>\n      <td>200.0</td>\n      <td>10.0</td>\n      <td>48.0</td>\n      <td>2000.0</td>\n      <td>0.0</td>\n      <td>0.0</td>\n      <td>47.0</td>\n      <td>1.0</td>\n      <td>22.0</td>\n      <td>22.0</td>\n    </tr>\n    <tr>\n      <th>2</th>\n      <td>credit-g</td>\n      <td>active</td>\n      <td>700.0</td>\n      <td>10.0</td>\n      <td>300.0</td>\n      <td>2.0</td>\n      <td>21.0</td>\n      <td>1000.0</td>\n      <td>0.0</td>\n      <td>0.0</td>\n      <td>7.0</td>\n      <td>14.0</td>\n      <td>31.0</td>\n      <td>31.0</td>\n    </tr>\n    <tr>\n      <th>3</th>\n      <td>satimage</td>\n      <td>active</td>\n      <td>1531.0</td>\n      <td>6.0</td>\n      <td>625.0</td>\n      <td>6.0</td>\n      <td>37.0</td>\n      <td>6430.0</td>\n      <td>0.0</td>\n      <td>0.0</td>\n      <td>36.0</td>\n      <td>1.0</td>\n      <td>182.0</td>\n      <td>2074.0</td>\n    </tr>\n    <tr>\n      <th>4</th>\n      <td>eucalyptus</td>\n      <td>active</td>\n      <td>214.0</td>\n      <td>27.0</td>\n      <td>105.0</td>\n      <td>5.0</td>\n      <td>20.0</td>\n      <td>736.0</td>\n      <td>95.0</td>\n      <td>448.0</td>\n      <td>14.0</td>\n      <td>6.0</td>\n      <td>188.0</td>\n      <td>2079.0</td>\n    </tr>\n    <tr>\n      <th>5</th>\n      <td>monks-problems-2</td>\n      <td>active</td>\n      <td>395.0</td>\n      <td>4.0</td>\n      <td>206.0</td>\n      <td>2.0</td>\n      <td>7.0</td>\n      <td>601.0</td>\n      <td>0.0</td>\n      <td>0.0</td>\n      <td>0.0</td>\n      <td>7.0</td>\n      <td>334.0</td>\n      <td>3493.0</td>\n    </tr>\n    <tr>\n      <th>6</th>\n      <td>mc1</td>\n      <td>active</td>\n      <td>9398.0</td>\n      <td>2.0</td>\n      <td>68.0</td>\n      <td>2.0</td>\n      <td>39.0</td>\n      <td>9466.0</td>\n      <td>0.0</td>\n      <td>0.0</td>\n      <td>38.0</td>\n      <td>1.0</td>\n      <td>1056.0</td>\n      <td>3907.0</td>\n    </tr>\n    <tr>\n      <th>7</th>\n      <td>kc2</td>\n      <td>active</td>\n      <td>415.0</td>\n      <td>2.0</td>\n      <td>107.0</td>\n      <td>2.0</td>\n      <td>22.0</td>\n      <td>522.0</td>\n      <td>0.0</td>\n      <td>0.0</td>\n      <td>21.0</td>\n      <td>1.0</td>\n      <td>1063.0</td>\n      <td>3913.0</td>\n    </tr>\n    <tr>\n      <th>8</th>\n      <td>micro-mass</td>\n      <td>active</td>\n      <td>60.0</td>\n      <td>20.0</td>\n      <td>11.0</td>\n      <td>20.0</td>\n      <td>1301.0</td>\n      <td>571.0</td>\n      <td>0.0</td>\n      <td>0.0</td>\n      <td>1300.0</td>\n      <td>1.0</td>\n      <td>1515.0</td>\n      <td>9950.0</td>\n    </tr>\n    <tr>\n      <th>9</th>\n      <td>phoneme</td>\n      <td>active</td>\n      <td>3818.0</td>\n      <td>2.0</td>\n      <td>1586.0</td>\n      <td>2.0</td>\n      <td>6.0</td>\n      <td>5404.0</td>\n      <td>0.0</td>\n      <td>0.0</td>\n      <td>5.0</td>\n      <td>1.0</td>\n      <td>1489.0</td>\n      <td>9952.0</td>\n    </tr>\n    <tr>\n      <th>10</th>\n      <td>ilpd</td>\n      <td>active</td>\n      <td>416.0</td>\n      <td>2.0</td>\n      <td>167.0</td>\n      <td>2.0</td>\n      <td>11.0</td>\n      <td>583.0</td>\n      <td>0.0</td>\n      <td>0.0</td>\n      <td>9.0</td>\n      <td>2.0</td>\n      <td>1480.0</td>\n      <td>9971.0</td>\n    </tr>\n    <tr>\n      <th>11</th>\n      <td>CreditCardSubset</td>\n      <td>active</td>\n      <td>14217.0</td>\n      <td>2.0</td>\n      <td>23.0</td>\n      <td>2.0</td>\n      <td>31.0</td>\n      <td>14240.0</td>\n      <td>0.0</td>\n      <td>0.0</td>\n      <td>30.0</td>\n      <td>1.0</td>\n      <td>4154.0</td>\n      <td>10106.0</td>\n    </tr>\n    <tr>\n      <th>12</th>\n      <td>cylinder-bands</td>\n      <td>active</td>\n      <td>312.0</td>\n      <td>71.0</td>\n      <td>228.0</td>\n      <td>2.0</td>\n      <td>40.0</td>\n      <td>540.0</td>\n      <td>263.0</td>\n      <td>999.0</td>\n      <td>18.0</td>\n      <td>22.0</td>\n      <td>6332.0</td>\n      <td>14954.0</td>\n    </tr>\n    <tr>\n      <th>13</th>\n      <td>har</td>\n      <td>active</td>\n      <td>1944.0</td>\n      <td>6.0</td>\n      <td>1406.0</td>\n      <td>6.0</td>\n      <td>562.0</td>\n      <td>10299.0</td>\n      <td>0.0</td>\n      <td>0.0</td>\n      <td>561.0</td>\n      <td>1.0</td>\n      <td>1478.0</td>\n      <td>14970.0</td>\n    </tr>\n    <tr>\n      <th>14</th>\n      <td>shuttle</td>\n      <td>active</td>\n      <td>45586.0</td>\n      <td>7.0</td>\n      <td>10.0</td>\n      <td>7.0</td>\n      <td>10.0</td>\n      <td>58000.0</td>\n      <td>0.0</td>\n      <td>0.0</td>\n      <td>9.0</td>\n      <td>1.0</td>\n      <td>40685.0</td>\n      <td>146212.0</td>\n    </tr>\n    <tr>\n      <th>15</th>\n      <td>jungle_chess_2pcs_raw_endgame_complete</td>\n      <td>active</td>\n      <td>23062.0</td>\n      <td>3.0</td>\n      <td>4335.0</td>\n      <td>3.0</td>\n      <td>7.0</td>\n      <td>44819.0</td>\n      <td>0.0</td>\n      <td>0.0</td>\n      <td>6.0</td>\n      <td>1.0</td>\n      <td>41027.0</td>\n      <td>167119.0</td>\n    </tr>\n    <tr>\n      <th>16</th>\n      <td>Internet-Advertisements</td>\n      <td>active</td>\n      <td>2820.0</td>\n      <td>2.0</td>\n      <td>459.0</td>\n      <td>2.0</td>\n      <td>1559.0</td>\n      <td>3279.0</td>\n      <td>0.0</td>\n      <td>0.0</td>\n      <td>3.0</td>\n      <td>1556.0</td>\n      <td>40978.0</td>\n      <td>167125.0</td>\n    </tr>\n    <tr>\n      <th>17</th>\n      <td>kick</td>\n      <td>active</td>\n      <td>64007.0</td>\n      <td>5.0</td>\n      <td>8976.0</td>\n      <td>2.0</td>\n      <td>33.0</td>\n      <td>72983.0</td>\n      <td>69709.0</td>\n      <td>149271.0</td>\n      <td>14.0</td>\n      <td>19.0</td>\n      <td>41162.0</td>\n      <td>168336.0</td>\n    </tr>\n  </tbody>\n</table>\n</div>"
     },
     "metadata": {},
     "output_type": "display_data"
    },
    {
     "data": {
      "text/plain": "    data_id           name  status  MajorityClassSize  \\\n0         3       kr-vs-kp  active               1669   \n1         6         letter  active                813   \n2        11  balance-scale  active                288   \n3        12  mfeat-factors  active                200   \n4        14  mfeat-fourier  active                200   \n..      ...            ...     ...                ...   \n89    41163        dilbert  active               2049   \n90    41164         fabert  active               1927   \n91    41166        volkert  active              12806   \n92    41168         jannis  active              38522   \n93    41169         helena  active               4005   \n\n    MaxNominalAttDistinctValues  MinorityClassSize  NumberOfClasses  \\\n0                           3.0               1527                2   \n1                          26.0                734               26   \n2                           3.0                 49                3   \n3                          10.0                200               10   \n4                          10.0                200               10   \n..                          ...                ...              ...   \n89                          5.0               1913                5   \n90                          7.0                502                7   \n91                         10.0               1361               10   \n92                          4.0               1687                4   \n93                        100.0                111              100   \n\n    NumberOfFeatures  NumberOfInstances  NumberOfInstancesWithMissingValues  \\\n0                 37               3196                                   0   \n1                 17              20000                                   0   \n2                  5                625                                   0   \n3                217               2000                                   0   \n4                 77               2000                                   0   \n..               ...                ...                                 ...   \n89              2001              10000                                   0   \n90               801               8237                                   0   \n91               181              58310                                   0   \n92                55              83733                                   0   \n93                28              65196                                   0   \n\n    NumberOfMissingValues  NumberOfNumericFeatures  NumberOfSymbolicFeatures  \\\n0                       0                        0                        37   \n1                       0                       16                         1   \n2                       0                        4                         1   \n3                       0                      216                         1   \n4                       0                       76                         1   \n..                    ...                      ...                       ...   \n89                      0                     2000                         1   \n90                      0                      800                         1   \n91                      0                      180                         1   \n92                      0                       54                         1   \n93                      0                       27                         1   \n\n    task_id  \n0         3  \n1         6  \n2        11  \n3        12  \n4        14  \n..      ...  \n89   168770  \n90   168760  \n91   168331  \n92   168330  \n93   168329  \n\n[94 rows x 14 columns]",
      "text/html": "<div>\n<style scoped>\n    .dataframe tbody tr th:only-of-type {\n        vertical-align: middle;\n    }\n\n    .dataframe tbody tr th {\n        vertical-align: top;\n    }\n\n    .dataframe thead th {\n        text-align: right;\n    }\n</style>\n<table border=\"1\" class=\"dataframe\">\n  <thead>\n    <tr style=\"text-align: right;\">\n      <th></th>\n      <th>data_id</th>\n      <th>name</th>\n      <th>status</th>\n      <th>MajorityClassSize</th>\n      <th>MaxNominalAttDistinctValues</th>\n      <th>MinorityClassSize</th>\n      <th>NumberOfClasses</th>\n      <th>NumberOfFeatures</th>\n      <th>NumberOfInstances</th>\n      <th>NumberOfInstancesWithMissingValues</th>\n      <th>NumberOfMissingValues</th>\n      <th>NumberOfNumericFeatures</th>\n      <th>NumberOfSymbolicFeatures</th>\n      <th>task_id</th>\n    </tr>\n  </thead>\n  <tbody>\n    <tr>\n      <th>0</th>\n      <td>3</td>\n      <td>kr-vs-kp</td>\n      <td>active</td>\n      <td>1669</td>\n      <td>3.0</td>\n      <td>1527</td>\n      <td>2</td>\n      <td>37</td>\n      <td>3196</td>\n      <td>0</td>\n      <td>0</td>\n      <td>0</td>\n      <td>37</td>\n      <td>3</td>\n    </tr>\n    <tr>\n      <th>1</th>\n      <td>6</td>\n      <td>letter</td>\n      <td>active</td>\n      <td>813</td>\n      <td>26.0</td>\n      <td>734</td>\n      <td>26</td>\n      <td>17</td>\n      <td>20000</td>\n      <td>0</td>\n      <td>0</td>\n      <td>16</td>\n      <td>1</td>\n      <td>6</td>\n    </tr>\n    <tr>\n      <th>2</th>\n      <td>11</td>\n      <td>balance-scale</td>\n      <td>active</td>\n      <td>288</td>\n      <td>3.0</td>\n      <td>49</td>\n      <td>3</td>\n      <td>5</td>\n      <td>625</td>\n      <td>0</td>\n      <td>0</td>\n      <td>4</td>\n      <td>1</td>\n      <td>11</td>\n    </tr>\n    <tr>\n      <th>3</th>\n      <td>12</td>\n      <td>mfeat-factors</td>\n      <td>active</td>\n      <td>200</td>\n      <td>10.0</td>\n      <td>200</td>\n      <td>10</td>\n      <td>217</td>\n      <td>2000</td>\n      <td>0</td>\n      <td>0</td>\n      <td>216</td>\n      <td>1</td>\n      <td>12</td>\n    </tr>\n    <tr>\n      <th>4</th>\n      <td>14</td>\n      <td>mfeat-fourier</td>\n      <td>active</td>\n      <td>200</td>\n      <td>10.0</td>\n      <td>200</td>\n      <td>10</td>\n      <td>77</td>\n      <td>2000</td>\n      <td>0</td>\n      <td>0</td>\n      <td>76</td>\n      <td>1</td>\n      <td>14</td>\n    </tr>\n    <tr>\n      <th>...</th>\n      <td>...</td>\n      <td>...</td>\n      <td>...</td>\n      <td>...</td>\n      <td>...</td>\n      <td>...</td>\n      <td>...</td>\n      <td>...</td>\n      <td>...</td>\n      <td>...</td>\n      <td>...</td>\n      <td>...</td>\n      <td>...</td>\n      <td>...</td>\n    </tr>\n    <tr>\n      <th>89</th>\n      <td>41163</td>\n      <td>dilbert</td>\n      <td>active</td>\n      <td>2049</td>\n      <td>5.0</td>\n      <td>1913</td>\n      <td>5</td>\n      <td>2001</td>\n      <td>10000</td>\n      <td>0</td>\n      <td>0</td>\n      <td>2000</td>\n      <td>1</td>\n      <td>168770</td>\n    </tr>\n    <tr>\n      <th>90</th>\n      <td>41164</td>\n      <td>fabert</td>\n      <td>active</td>\n      <td>1927</td>\n      <td>7.0</td>\n      <td>502</td>\n      <td>7</td>\n      <td>801</td>\n      <td>8237</td>\n      <td>0</td>\n      <td>0</td>\n      <td>800</td>\n      <td>1</td>\n      <td>168760</td>\n    </tr>\n    <tr>\n      <th>91</th>\n      <td>41166</td>\n      <td>volkert</td>\n      <td>active</td>\n      <td>12806</td>\n      <td>10.0</td>\n      <td>1361</td>\n      <td>10</td>\n      <td>181</td>\n      <td>58310</td>\n      <td>0</td>\n      <td>0</td>\n      <td>180</td>\n      <td>1</td>\n      <td>168331</td>\n    </tr>\n    <tr>\n      <th>92</th>\n      <td>41168</td>\n      <td>jannis</td>\n      <td>active</td>\n      <td>38522</td>\n      <td>4.0</td>\n      <td>1687</td>\n      <td>4</td>\n      <td>55</td>\n      <td>83733</td>\n      <td>0</td>\n      <td>0</td>\n      <td>54</td>\n      <td>1</td>\n      <td>168330</td>\n    </tr>\n    <tr>\n      <th>93</th>\n      <td>41169</td>\n      <td>helena</td>\n      <td>active</td>\n      <td>4005</td>\n      <td>100.0</td>\n      <td>111</td>\n      <td>100</td>\n      <td>28</td>\n      <td>65196</td>\n      <td>0</td>\n      <td>0</td>\n      <td>27</td>\n      <td>1</td>\n      <td>168329</td>\n    </tr>\n  </tbody>\n</table>\n<p>94 rows × 14 columns</p>\n</div>"
     },
     "metadata": {},
     "output_type": "display_data"
    }
   ],
   "source": [
    "\"\"\"Imputation using the median, moved later to one of the utils functions\"\"\"\n",
    "train_data, test_data = get_all_metafeatures(impute=True)\n",
    "\n",
    "#Train data 0-16000 but most values under 100\n",
    "#train_data[nan_column].plot(kind='kde')\n",
    "#Test data 0-75\n",
    "#test_data[nan_column].plot(kind='hist', edgecolor='black')\n",
    "\n",
    "# #Finding median across both train and test datasets\n",
    "# train_not_nan = train_data[~train_data[nan_column].isna()][nan_column].tolist()\n",
    "# test_not_nan = test_data[~test_data[nan_column].isna()][nan_column].tolist()\n",
    "# nan_column_median = int(statistics.median(train_not_nan + test_not_nan))\n",
    "#\n",
    "# #Replacing NaNs with median\n",
    "# train_data[nan_column] = train_data[nan_column].fillna(nan_column_median)\n",
    "# test_data[nan_column] = test_data[nan_column].fillna(nan_column_median)\n",
    "\n",
    "\n",
    "\"\"\"\n",
    "Old code for imputing using the mean value - switched to median due to long tail distribution\n",
    "\"\"\"\n",
    "# total_length = (train_data[[nan_column]].shape[0] -train_data[[nan_column]].isna().sum()) + (test_data[[nan_column]].shape[0] - test_data[[nan_column]].isna().sum())\n",
    "# total_length = total_length.tolist()[0]\n",
    "# maxnominal_avg = (train_data[[nan_column]].sum(skipna=True) + test_data[[nan_column]].sum(skipna=True))/total_length\n",
    "# maxnominal_avg = maxnominal_avg.tolist()[0]\n",
    "# print(maxnominal_avg)\n",
    "# train_data[nan_column] = train_data[nan_column].fillna(maxnominal_avg)\n",
    "# test_data[nan_column] = test_data[nan_column].fillna(maxnominal_avg)\n",
    "# display(train_data, test_data)\n",
    "\"\"\"\n",
    "MaxNominalAttributeDistinctValues (largest number of categories among all cat variables)\n",
    "\"\"\"\n",
    "#Sanity check should be zero for all columns\n",
    "print(train_data.isna().sum(),test_data.isna().sum())\n",
    "\n",
    "display(test_data,train_data)\n"
   ],
   "metadata": {
    "collapsed": false,
    "pycharm": {
     "name": "#%%\n"
    }
   }
  },
  {
   "cell_type": "code",
   "execution_count": 1,
   "outputs": [
    {
     "name": "stdout",
     "output_type": "stream",
     "text": [
      "x_train: torch.Size([94, 10])  y_train: torch.Size([94, 10])\n"
     ]
    }
   ],
   "source": [
    "\"\"\"\n",
    "       Testing MyDataset implementation\n",
    "\"\"\"\n",
    "from python.FFN_regression import MyDataset\n",
    "import torch\n",
    "# my_data = MyDataset()\n",
    "#\n",
    "# x_train = my_data.x_train\n",
    "# y_train = my_data.y_train\n",
    "# x_range = torch.sub(torch.max(x_train,0)[0],torch.min(x_train,0)[0])\n",
    "# y_range = torch.sub(torch.max(y_train,0)[0],torch.min(y_train,0)[0])\n",
    "# print(x_range,y_range)"
   ],
   "metadata": {
    "collapsed": false,
    "pycharm": {
     "name": "#%%\n"
    }
   }
  },
  {
   "cell_type": "code",
   "execution_count": 3,
   "outputs": [
    {
     "data": {
      "text/plain": "tensor([[1.5000e+02, 8.0000e+00, 1.0500e+02, 8.0000e+00, 8.2000e+01, 1.0800e+03,\n         5.2800e+02, 1.3960e+03, 7.7000e+01, 5.0000e+00],\n        [4.2080e+03, 1.2000e+01, 3.9160e+03, 2.0000e+00, 2.3000e+01, 8.1240e+03,\n         2.4800e+03, 2.4800e+03, 0.0000e+00, 2.3000e+01],\n        [3.1700e+02, 4.0000e+00, 5.5000e+01, 4.0000e+00, 7.1000e+01, 8.4100e+02,\n         0.0000e+00, 0.0000e+00, 7.0000e+01, 1.0000e+00],\n        [4.5800e+02, 2.0000e+00, 2.4100e+02, 2.0000e+00, 1.0000e+01, 6.9900e+02,\n         1.6000e+01, 1.6000e+01, 9.0000e+00, 1.0000e+00],\n        [2.2050e+03, 4.0000e+00, 3.2800e+02, 4.0000e+00, 2.5000e+01, 5.4560e+03,\n         0.0000e+00, 0.0000e+00, 2.4000e+01, 1.0000e+00],\n        [1.0000e+02, 6.0000e+00, 1.0000e+02, 6.0000e+00, 6.1000e+01, 6.0000e+02,\n         0.0000e+00, 0.0000e+00, 6.0000e+01, 1.0000e+00],\n        [1.6690e+03, 3.0000e+00, 1.5270e+03, 2.0000e+00, 3.7000e+01, 3.1960e+03,\n         0.0000e+00, 0.0000e+00, 0.0000e+00, 3.7000e+01],\n        [6.2600e+02, 3.0000e+00, 3.3200e+02, 2.0000e+00, 1.0000e+01, 9.5800e+02,\n         0.0000e+00, 0.0000e+00, 0.0000e+00, 1.0000e+01],\n        [5.6000e+01, 2.0000e+00, 4.4000e+01, 2.0000e+00, 1.0001e+04, 1.0000e+02,\n         0.0000e+00, 0.0000e+00, 1.0000e+04, 1.0000e+00],\n        [7.6200e+02, 2.0000e+00, 6.1000e+02, 2.0000e+00, 5.0000e+00, 1.3720e+03,\n         0.0000e+00, 0.0000e+00, 4.0000e+00, 1.0000e+00],\n        [1.5000e+04, 2.0000e+00, 5.0000e+03, 2.0000e+00, 4.2970e+03, 2.0000e+04,\n         0.0000e+00, 0.0000e+00, 4.2960e+03, 1.0000e+00],\n        [5.0250e+03, 2.0000e+00, 7.5000e+01, 2.0000e+00, 3.7000e+01, 5.1000e+03,\n         0.0000e+00, 0.0000e+00, 3.6000e+01, 1.0000e+00],\n        [3.5700e+02, 2.0000e+00, 2.1200e+02, 2.0000e+00, 3.1000e+01, 5.6900e+02,\n         0.0000e+00, 0.0000e+00, 3.0000e+01, 1.0000e+00],\n        [3.3000e+02, 7.0000e+00, 3.3000e+02, 7.0000e+00, 2.0000e+01, 2.3100e+03,\n         0.0000e+00, 0.0000e+00, 1.9000e+01, 1.0000e+00],\n        [4.9400e+02, 2.0000e+00, 4.6000e+01, 2.0000e+00, 2.1000e+01, 5.4000e+02,\n         0.0000e+00, 0.0000e+00, 2.0000e+01, 1.0000e+00],\n        [1.1440e+03, 1.0000e+01, 1.0550e+03, 1.0000e+01, 1.7000e+01, 1.0992e+04,\n         0.0000e+00, 0.0000e+00, 1.6000e+01, 1.0000e+00],\n        [1.2100e+03, 4.0000e+00, 6.5000e+01, 4.0000e+00, 7.0000e+00, 1.7280e+03,\n         0.0000e+00, 0.0000e+00, 0.0000e+00, 7.0000e+00],\n        [1.3509e+04, 2.0000e+00, 8.8600e+02, 2.0000e+00, 1.0900e+02, 1.4395e+04,\n         0.0000e+00, 0.0000e+00, 1.0800e+02, 1.0000e+00],\n        [3.0090e+03, 6.0000e+00, 1.6410e+03, 6.0000e+00, 1.2900e+02, 1.3910e+04,\n         0.0000e+00, 0.0000e+00, 1.2800e+02, 1.0000e+00],\n        [5.0000e+02, 1.1000e+01, 5.0000e+02, 1.1000e+01, 4.1000e+01, 5.5000e+03,\n         0.0000e+00, 0.0000e+00, 4.0000e+01, 1.0000e+00],\n        [2.0000e+02, 1.0000e+01, 2.0000e+02, 1.0000e+01, 2.1700e+02, 2.0000e+03,\n         0.0000e+00, 0.0000e+00, 2.1600e+02, 1.0000e+00],\n        [2.0490e+03, 5.0000e+00, 1.9130e+03, 5.0000e+00, 2.0010e+03, 1.0000e+04,\n         0.0000e+00, 0.0000e+00, 2.0000e+03, 1.0000e+00],\n        [5.7200e+02, 1.0000e+01, 5.5400e+02, 1.0000e+01, 6.5000e+01, 5.6200e+03,\n         0.0000e+00, 0.0000e+00, 6.4000e+01, 1.0000e+00],\n        [1.6140e+03, 9.0000e+00, 7.8200e+02, 9.0000e+00, 1.5000e+01, 9.9610e+03,\n         0.0000e+00, 0.0000e+00, 1.4000e+01, 1.0000e+00],\n        [2.0000e+02, 1.0000e+01, 2.0000e+02, 1.0000e+01, 2.4100e+02, 2.0000e+03,\n         0.0000e+00, 0.0000e+00, 2.4000e+02, 1.0000e+00],\n        [1.9760e+03, 2.0000e+00, 4.3100e+02, 2.0000e+00, 3.0000e+02, 2.4070e+03,\n         0.0000e+00, 0.0000e+00, 2.9400e+02, 6.0000e+00],\n        [9.2000e+01, 1.9000e+01, 8.0000e+00, 1.9000e+01, 3.6000e+01, 6.8300e+02,\n         1.2100e+02, 2.3370e+03, 0.0000e+00, 3.6000e+01],\n        [8.1300e+02, 2.6000e+01, 7.3400e+02, 2.6000e+01, 1.7000e+01, 2.0000e+04,\n         0.0000e+00, 0.0000e+00, 1.6000e+01, 1.0000e+00],\n        [1.6200e+02, 1.0000e+01, 1.5500e+02, 1.0000e+01, 2.5700e+02, 1.5930e+03,\n         0.0000e+00, 0.0000e+00, 2.5600e+02, 1.0000e+00],\n        [7.8770e+03, 1.0000e+01, 6.3130e+03, 1.0000e+01, 7.8500e+02, 7.0000e+04,\n         0.0000e+00, 0.0000e+00, 7.8400e+02, 1.0000e+00],\n        [3.0000e+02, 2.6000e+01, 2.9800e+02, 2.6000e+01, 6.1800e+02, 7.7970e+03,\n         0.0000e+00, 0.0000e+00, 6.1700e+02, 1.0000e+00],\n        [2.8800e+02, 3.0000e+00, 4.9000e+01, 3.0000e+00, 5.0000e+00, 6.2500e+02,\n         0.0000e+00, 0.0000e+00, 4.0000e+00, 1.0000e+00],\n        [9.0000e+01, 1.5000e+01, 9.0000e+01, 1.1000e+01, 1.3000e+01, 9.9000e+02,\n         0.0000e+00, 0.0000e+00, 1.0000e+01, 3.0000e+00],\n        [4.5780e+03, 2.0000e+00, 2.6100e+02, 2.0000e+00, 6.0000e+00, 4.8390e+03,\n         0.0000e+00, 0.0000e+00, 5.0000e+00, 1.0000e+00],\n        [1.2000e+02, 9.0000e+00, 1.2000e+02, 9.0000e+00, 8.5700e+02, 1.0800e+03,\n         0.0000e+00, 0.0000e+00, 8.5600e+02, 1.0000e+00],\n        [3.5410e+03, 5.0000e+00, 2.3100e+02, 2.0000e+00, 3.0000e+01, 3.7720e+03,\n         3.7720e+03, 6.0640e+03, 7.0000e+00, 2.3000e+01],\n        [1.6540e+03, 3.0000e+00, 7.6500e+02, 3.0000e+00, 1.8100e+02, 3.1860e+03,\n         0.0000e+00, 0.0000e+00, 0.0000e+00, 1.8100e+02],\n        [2.0000e+03, 4.6000e+01, 2.0000e+03, 4.6000e+01, 1.0250e+03, 9.2000e+04,\n         0.0000e+00, 0.0000e+00, 1.0240e+03, 1.0000e+00],\n        [6.1570e+03, 3.0000e+00, 4.8980e+03, 2.0000e+00, 3.1000e+01, 1.1055e+04,\n         0.0000e+00, 0.0000e+00, 0.0000e+00, 3.1000e+01],\n        [1.6550e+03, 6.0000e+00, 7.6700e+02, 3.0000e+00, 6.1000e+01, 3.1900e+03,\n         0.0000e+00, 0.0000e+00, 0.0000e+00, 6.1000e+01],\n        [2.4621e+04, 3.0000e+00, 9.8440e+03, 2.0000e+00, 1.1900e+02, 3.4465e+04,\n         0.0000e+00, 0.0000e+00, 8.9000e+01, 3.0000e+01],\n        [1.6000e+01, 1.0000e+02, 1.5000e+01, 1.0000e+02, 6.5000e+01, 1.5990e+03,\n         0.0000e+00, 0.0000e+00, 6.4000e+01, 1.0000e+00],\n        [2.7880e+03, 2.0000e+00, 1.8130e+03, 2.0000e+00, 5.8000e+01, 4.6010e+03,\n         0.0000e+00, 0.0000e+00, 5.7000e+01, 1.0000e+00],\n        [2.5620e+03, 2.0000e+00, 2.5620e+03, 2.0000e+00, 2.1000e+01, 5.1240e+03,\n         0.0000e+00, 0.0000e+00, 2.0000e+01, 1.0000e+00],\n        [2.0000e+02, 1.0000e+01, 2.0000e+02, 1.0000e+01, 7.7000e+01, 2.0000e+03,\n         0.0000e+00, 0.0000e+00, 7.6000e+01, 1.0000e+00],\n        [3.0000e+01, 5.0000e+01, 3.0000e+01, 5.0000e+01, 1.0001e+04, 1.5000e+03,\n         0.0000e+00, 0.0000e+00, 1.0000e+04, 1.0000e+00],\n        [2.6075e+04, 7.0000e+00, 1.9237e+04, 2.0000e+00, 9.0000e+00, 4.5312e+04,\n         0.0000e+00, 0.0000e+00, 7.0000e+00, 2.0000e+00],\n        [9.3565e+04, 2.0000e+00, 3.6499e+04, 2.0000e+00, 5.1000e+01, 1.3006e+05,\n         0.0000e+00, 0.0000e+00, 5.0000e+01, 1.0000e+00],\n        [3.8300e+02, 1.4000e+01, 3.0700e+02, 2.0000e+00, 1.5000e+01, 6.9000e+02,\n         0.0000e+00, 0.0000e+00, 6.0000e+00, 9.0000e+00],\n        [3.8300e+02, 1.4000e+01, 3.0700e+02, 2.0000e+00, 1.6000e+01, 6.9000e+02,\n         3.7000e+01, 6.7000e+01, 6.0000e+00, 1.0000e+01],\n        [1.6920e+03, 3.0000e+00, 1.6530e+03, 3.0000e+00, 4.1000e+01, 5.0000e+03,\n         0.0000e+00, 0.0000e+00, 4.0000e+01, 1.0000e+00],\n        [5.7000e+01, 1.0000e+01, 3.7000e+01, 1.0000e+01, 8.0000e+00, 5.0000e+02,\n         0.0000e+00, 0.0000e+00, 7.0000e+00, 1.0000e+00],\n        [1.2800e+03, 2.0000e+00, 1.7800e+02, 2.0000e+00, 3.8000e+01, 1.4580e+03,\n         0.0000e+00, 0.0000e+00, 3.7000e+01, 1.0000e+00],\n        [6.9900e+02, 2.0000e+00, 3.5600e+02, 2.0000e+00, 4.2000e+01, 1.0550e+03,\n         0.0000e+00, 0.0000e+00, 4.1000e+01, 1.0000e+00],\n        [2.0000e+02, 1.0000e+01, 2.0000e+02, 1.0000e+01, 7.0000e+00, 2.0000e+03,\n         0.0000e+00, 0.0000e+00, 6.0000e+00, 1.0000e+00],\n        [2.3740e+03, 2.0000e+00, 1.6000e+02, 2.0000e+00, 7.3000e+01, 2.5340e+03,\n         0.0000e+00, 0.0000e+00, 7.2000e+01, 1.0000e+00],\n        [4.4473e+04, 5.0000e+00, 6.4490e+03, 3.0000e+00, 4.3000e+01, 6.7557e+04,\n         0.0000e+00, 0.0000e+00, 0.0000e+00, 4.3000e+01],\n        [6.7300e+02, 7.0000e+00, 5.5000e+01, 7.0000e+00, 2.8000e+01, 1.9410e+03,\n         0.0000e+00, 0.0000e+00, 2.7000e+01, 1.0000e+00],\n        [1.0320e+03, 2.0000e+00, 7.7000e+01, 2.0000e+00, 2.2000e+01, 1.1090e+03,\n         0.0000e+00, 0.0000e+00, 2.1000e+01, 1.0000e+00],\n        [2.1800e+02, 4.0000e+00, 1.9900e+02, 4.0000e+00, 1.9000e+01, 8.4600e+02,\n         0.0000e+00, 0.0000e+00, 1.8000e+01, 1.0000e+00],\n        [4.2930e+03, 1.0000e+01, 7.0700e+02, 2.0000e+00, 2.1000e+01, 5.0000e+03,\n         0.0000e+00, 0.0000e+00, 1.6000e+01, 5.0000e+00],\n        [1.2806e+04, 1.0000e+01, 1.3610e+03, 1.0000e+01, 1.8100e+02, 5.8310e+04,\n         0.0000e+00, 0.0000e+00, 1.8000e+02, 1.0000e+00],\n        [3.1180e+03, 2.0000e+00, 1.0290e+03, 2.0000e+00, 4.9000e+01, 4.1470e+03,\n         0.0000e+00, 0.0000e+00, 4.8000e+01, 1.0000e+00],\n        [3.9922e+04, 1.2000e+01, 5.2890e+03, 2.0000e+00, 1.7000e+01, 4.5211e+04,\n         0.0000e+00, 0.0000e+00, 7.0000e+00, 1.0000e+01],\n        [1.3000e+03, 2.0000e+00, 1.3000e+03, 2.0000e+00, 5.0100e+02, 2.6000e+03,\n         0.0000e+00, 0.0000e+00, 5.0000e+02, 1.0000e+00],\n        [1.9270e+03, 7.0000e+00, 5.0200e+02, 7.0000e+00, 8.0100e+02, 8.2370e+03,\n         0.0000e+00, 0.0000e+00, 8.0000e+02, 1.0000e+00],\n        [3.7155e+04, 4.1000e+01, 1.1687e+04, 2.0000e+00, 1.5000e+01, 4.8842e+04,\n         3.6200e+03, 6.4650e+03, 6.0000e+00, 9.0000e+00],\n        [1.4030e+03, 2.0000e+00, 1.6000e+02, 2.0000e+00, 3.8000e+01, 1.5630e+03,\n         0.0000e+00, 0.0000e+00, 3.7000e+01, 1.0000e+00],\n        [1.1997e+04, 2.0000e+00, 8.0030e+03, 2.0000e+00, 4.2970e+03, 2.0000e+04,\n         0.0000e+00, 0.0000e+00, 4.2960e+03, 1.0000e+00],\n        [2.9500e+03, 5.0000e+00, 9.9800e+02, 5.0000e+00, 3.3000e+01, 9.8730e+03,\n         0.0000e+00, 0.0000e+00, 3.2000e+01, 1.0000e+00],\n        [2.0340e+03, 2.0000e+00, 1.7170e+03, 2.0000e+00, 1.7770e+03, 3.7510e+03,\n         0.0000e+00, 0.0000e+00, 1.7760e+03, 1.0000e+00],\n        [1.4920e+03, 2.0000e+00, 1.4920e+03, 2.0000e+00, 1.4500e+02, 2.9840e+03,\n         0.0000e+00, 0.0000e+00, 8.0000e+00, 1.3700e+02],\n        [5.0000e+02, 2.0000e+00, 2.6800e+02, 2.0000e+00, 9.0000e+00, 7.6800e+02,\n         0.0000e+00, 0.0000e+00, 8.0000e+00, 1.0000e+00],\n        [6.0000e+03, 1.0000e+01, 6.0000e+03, 1.0000e+01, 3.0730e+03, 6.0000e+04,\n         0.0000e+00, 0.0000e+00, 3.0720e+03, 1.0000e+00],\n        [6.9980e+03, 5.0000e+00, 1.3800e+03, 2.0000e+00, 1.2100e+02, 8.3780e+03,\n         7.3300e+03, 1.8372e+04, 5.9000e+01, 6.2000e+01],\n        [4.0050e+03, 1.0000e+02, 1.1100e+02, 1.0000e+02, 2.8000e+01, 6.5196e+04,\n         0.0000e+00, 0.0000e+00, 2.7000e+01, 1.0000e+00],\n        [2.1980e+03, 7.0000e+00, 5.0000e+00, 7.0000e+00, 1.2000e+01, 4.8980e+03,\n         0.0000e+00, 0.0000e+00, 1.1000e+01, 1.0000e+00],\n        [1.7830e+03, 2.0000e+00, 3.2600e+02, 2.0000e+00, 2.2000e+01, 2.1090e+03,\n         0.0000e+00, 0.0000e+00, 2.1000e+01, 1.0000e+00],\n        [2.5540e+03, 6.0000e+00, 4.8600e+02, 6.0000e+00, 5.2000e+01, 6.1180e+03,\n         0.0000e+00, 0.0000e+00, 5.1000e+01, 1.0000e+00],\n        [4.6300e+02, 1.0000e+01, 5.0000e+00, 1.0000e+01, 9.0000e+00, 1.4840e+03,\n         0.0000e+00, 0.0000e+00, 8.0000e+00, 1.0000e+00],\n        [3.8522e+04, 4.0000e+00, 1.6870e+03, 4.0000e+00, 5.5000e+01, 8.3733e+04,\n         0.0000e+00, 0.0000e+00, 5.4000e+01, 1.0000e+00],\n        [5.7000e+02, 2.0000e+00, 1.7800e+02, 2.0000e+00, 5.0000e+00, 7.4800e+02,\n         0.0000e+00, 0.0000e+00, 4.0000e+00, 1.0000e+00],\n        [4.4800e+02, 2.8000e+01, 2.2400e+02, 2.0000e+00, 1.0000e+01, 6.7200e+02,\n         6.6600e+02, 1.2000e+03, 5.0000e+00, 5.0000e+00],\n        [2.7090e+03, 2.0000e+00, 2.7090e+03, 2.0000e+00, 1.6370e+03, 5.4180e+03,\n         0.0000e+00, 0.0000e+00, 1.5990e+03, 3.8000e+01],\n        [4.9110e+04, 1.5415e+04, 8.9000e+02, 2.0000e+00, 2.3100e+02, 5.0000e+04,\n         5.0000e+04, 8.0242e+06, 1.9200e+02, 3.9000e+01],\n        [5.1827e+04, 2.0000e+00, 4.6223e+04, 2.0000e+00, 2.9000e+01, 9.8050e+04,\n         1.0000e+00, 9.0000e+00, 2.8000e+01, 1.0000e+00],\n        [6.2900e+02, 4.0000e+00, 3.3300e+02, 3.0000e+00, 1.0000e+01, 1.4730e+03,\n         0.0000e+00, 0.0000e+00, 2.0000e+00, 8.0000e+00],\n        [2.9000e+02, 2.4000e+01, 2.1000e+02, 2.0000e+00, 1.3000e+01, 5.0000e+02,\n         4.0100e+02, 8.3500e+02, 1.0000e+00, 1.2000e+01],\n        [8.7790e+03, 2.0000e+00, 2.1060e+03, 2.0000e+00, 2.2000e+01, 1.0885e+04,\n         5.0000e+00, 2.5000e+01, 2.1000e+01, 1.0000e+00],\n        [6.0600e+02, 2.0000e+00, 6.0600e+02, 2.0000e+00, 1.0100e+02, 1.2120e+03,\n         0.0000e+00, 0.0000e+00, 1.0000e+02, 1.0000e+00],\n        [5.4864e+04, 7.9000e+02, 1.1357e+04, 3.0000e+00, 5.0000e+01, 1.0177e+05,\n         0.0000e+00, 0.0000e+00, 1.3000e+01, 3.7000e+01],\n        [3.0872e+04, 7.5180e+03, 1.8970e+03, 2.0000e+00, 1.0000e+01, 3.2769e+04,\n         0.0000e+00, 0.0000e+00, 0.0000e+00, 1.0000e+01],\n        [1.5500e+02, 9.0000e+00, 1.2300e+02, 6.0000e+00, 5.0000e+00, 7.9700e+02,\n         0.0000e+00, 0.0000e+00, 0.0000e+00, 5.0000e+00],\n        [4.8658e+04, 2.0000e+00, 4.7662e+04, 2.0000e+00, 2.2000e+01, 9.6320e+04,\n         0.0000e+00, 0.0000e+00, 2.1000e+01, 1.0000e+00]])"
     },
     "metadata": {},
     "output_type": "display_data"
    }
   ],
   "source": [],
   "metadata": {
    "collapsed": false,
    "pycharm": {
     "name": "#%%\n"
    }
   }
  }
 ],
 "metadata": {
  "kernelspec": {
   "display_name": "Python 3",
   "language": "python",
   "name": "python3"
  },
  "language_info": {
   "codemirror_mode": {
    "name": "ipython",
    "version": 2
   },
   "file_extension": ".py",
   "mimetype": "text/x-python",
   "name": "python",
   "nbconvert_exporter": "python",
   "pygments_lexer": "ipython2",
   "version": "2.7.6"
  }
 },
 "nbformat": 4,
 "nbformat_minor": 0
}