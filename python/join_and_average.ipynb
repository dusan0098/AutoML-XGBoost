{
 "cells": [
  {
   "cell_type": "code",
   "execution_count": 1,
   "metadata": {
    "collapsed": true
   },
   "outputs": [],
   "source": [
    "\"\"\"\n",
    "    This Notebook was used to create:\n",
    "        - average_performanc.csv - original xgboost data on the AUC and training time was averaged over (dataset,configuration) pairs\n",
    "        - joint_data.csv - average performance data expanded with metafeatures of each dataset from featurse.csv\n",
    "\n",
    "\"\"\"\n",
    "\n",
    "import pandas as pd\n",
    "from IPython.display import display\n",
    "import numpy as np"
   ]
  },
  {
   "cell_type": "code",
   "execution_count": 2,
   "outputs": [
    {
     "data": {
      "text/plain": "    data_id           name  version  status  MajorityClassSize  \\\n0         3       kr-vs-kp        1  active               1669   \n1         6         letter        1  active                813   \n2        11  balance-scale        1  active                288   \n3        12  mfeat-factors        1  active                200   \n4        14  mfeat-fourier        1  active                200   \n..      ...            ...      ...     ...                ...   \n89    41163        dilbert        1  active               2049   \n90    41164         fabert        1  active               1927   \n91    41166        volkert        1  active              12806   \n92    41168         jannis        1  active              38522   \n93    41169         helena        1  active               4005   \n\n    MaxNominalAttDistinctValues  MinorityClassSize  NumberOfClasses  \\\n0                           3.0               1527                2   \n1                          26.0                734               26   \n2                           3.0                 49                3   \n3                          10.0                200               10   \n4                          10.0                200               10   \n..                          ...                ...              ...   \n89                          5.0               1913                5   \n90                          7.0                502                7   \n91                         10.0               1361               10   \n92                          4.0               1687                4   \n93                        100.0                111              100   \n\n    NumberOfFeatures  NumberOfInstances  NumberOfInstancesWithMissingValues  \\\n0                 37               3196                                   0   \n1                 17              20000                                   0   \n2                  5                625                                   0   \n3                217               2000                                   0   \n4                 77               2000                                   0   \n..               ...                ...                                 ...   \n89              2001              10000                                   0   \n90               801               8237                                   0   \n91               181              58310                                   0   \n92                55              83733                                   0   \n93                28              65196                                   0   \n\n    NumberOfMissingValues  NumberOfNumericFeatures  NumberOfSymbolicFeatures  \n0                       0                        0                        37  \n1                       0                       16                         1  \n2                       0                        4                         1  \n3                       0                      216                         1  \n4                       0                       76                         1  \n..                    ...                      ...                       ...  \n89                      0                     2000                         1  \n90                      0                      800                         1  \n91                      0                      180                         1  \n92                      0                       54                         1  \n93                      0                       27                         1  \n\n[94 rows x 14 columns]",
      "text/html": "<div>\n<style scoped>\n    .dataframe tbody tr th:only-of-type {\n        vertical-align: middle;\n    }\n\n    .dataframe tbody tr th {\n        vertical-align: top;\n    }\n\n    .dataframe thead th {\n        text-align: right;\n    }\n</style>\n<table border=\"1\" class=\"dataframe\">\n  <thead>\n    <tr style=\"text-align: right;\">\n      <th></th>\n      <th>data_id</th>\n      <th>name</th>\n      <th>version</th>\n      <th>status</th>\n      <th>MajorityClassSize</th>\n      <th>MaxNominalAttDistinctValues</th>\n      <th>MinorityClassSize</th>\n      <th>NumberOfClasses</th>\n      <th>NumberOfFeatures</th>\n      <th>NumberOfInstances</th>\n      <th>NumberOfInstancesWithMissingValues</th>\n      <th>NumberOfMissingValues</th>\n      <th>NumberOfNumericFeatures</th>\n      <th>NumberOfSymbolicFeatures</th>\n    </tr>\n  </thead>\n  <tbody>\n    <tr>\n      <th>0</th>\n      <td>3</td>\n      <td>kr-vs-kp</td>\n      <td>1</td>\n      <td>active</td>\n      <td>1669</td>\n      <td>3.0</td>\n      <td>1527</td>\n      <td>2</td>\n      <td>37</td>\n      <td>3196</td>\n      <td>0</td>\n      <td>0</td>\n      <td>0</td>\n      <td>37</td>\n    </tr>\n    <tr>\n      <th>1</th>\n      <td>6</td>\n      <td>letter</td>\n      <td>1</td>\n      <td>active</td>\n      <td>813</td>\n      <td>26.0</td>\n      <td>734</td>\n      <td>26</td>\n      <td>17</td>\n      <td>20000</td>\n      <td>0</td>\n      <td>0</td>\n      <td>16</td>\n      <td>1</td>\n    </tr>\n    <tr>\n      <th>2</th>\n      <td>11</td>\n      <td>balance-scale</td>\n      <td>1</td>\n      <td>active</td>\n      <td>288</td>\n      <td>3.0</td>\n      <td>49</td>\n      <td>3</td>\n      <td>5</td>\n      <td>625</td>\n      <td>0</td>\n      <td>0</td>\n      <td>4</td>\n      <td>1</td>\n    </tr>\n    <tr>\n      <th>3</th>\n      <td>12</td>\n      <td>mfeat-factors</td>\n      <td>1</td>\n      <td>active</td>\n      <td>200</td>\n      <td>10.0</td>\n      <td>200</td>\n      <td>10</td>\n      <td>217</td>\n      <td>2000</td>\n      <td>0</td>\n      <td>0</td>\n      <td>216</td>\n      <td>1</td>\n    </tr>\n    <tr>\n      <th>4</th>\n      <td>14</td>\n      <td>mfeat-fourier</td>\n      <td>1</td>\n      <td>active</td>\n      <td>200</td>\n      <td>10.0</td>\n      <td>200</td>\n      <td>10</td>\n      <td>77</td>\n      <td>2000</td>\n      <td>0</td>\n      <td>0</td>\n      <td>76</td>\n      <td>1</td>\n    </tr>\n    <tr>\n      <th>...</th>\n      <td>...</td>\n      <td>...</td>\n      <td>...</td>\n      <td>...</td>\n      <td>...</td>\n      <td>...</td>\n      <td>...</td>\n      <td>...</td>\n      <td>...</td>\n      <td>...</td>\n      <td>...</td>\n      <td>...</td>\n      <td>...</td>\n      <td>...</td>\n    </tr>\n    <tr>\n      <th>89</th>\n      <td>41163</td>\n      <td>dilbert</td>\n      <td>1</td>\n      <td>active</td>\n      <td>2049</td>\n      <td>5.0</td>\n      <td>1913</td>\n      <td>5</td>\n      <td>2001</td>\n      <td>10000</td>\n      <td>0</td>\n      <td>0</td>\n      <td>2000</td>\n      <td>1</td>\n    </tr>\n    <tr>\n      <th>90</th>\n      <td>41164</td>\n      <td>fabert</td>\n      <td>1</td>\n      <td>active</td>\n      <td>1927</td>\n      <td>7.0</td>\n      <td>502</td>\n      <td>7</td>\n      <td>801</td>\n      <td>8237</td>\n      <td>0</td>\n      <td>0</td>\n      <td>800</td>\n      <td>1</td>\n    </tr>\n    <tr>\n      <th>91</th>\n      <td>41166</td>\n      <td>volkert</td>\n      <td>1</td>\n      <td>active</td>\n      <td>12806</td>\n      <td>10.0</td>\n      <td>1361</td>\n      <td>10</td>\n      <td>181</td>\n      <td>58310</td>\n      <td>0</td>\n      <td>0</td>\n      <td>180</td>\n      <td>1</td>\n    </tr>\n    <tr>\n      <th>92</th>\n      <td>41168</td>\n      <td>jannis</td>\n      <td>1</td>\n      <td>active</td>\n      <td>38522</td>\n      <td>4.0</td>\n      <td>1687</td>\n      <td>4</td>\n      <td>55</td>\n      <td>83733</td>\n      <td>0</td>\n      <td>0</td>\n      <td>54</td>\n      <td>1</td>\n    </tr>\n    <tr>\n      <th>93</th>\n      <td>41169</td>\n      <td>helena</td>\n      <td>1</td>\n      <td>active</td>\n      <td>4005</td>\n      <td>100.0</td>\n      <td>111</td>\n      <td>100</td>\n      <td>28</td>\n      <td>65196</td>\n      <td>0</td>\n      <td>0</td>\n      <td>27</td>\n      <td>1</td>\n    </tr>\n  </tbody>\n</table>\n<p>94 rows × 14 columns</p>\n</div>"
     },
     "metadata": {},
     "output_type": "display_data"
    },
    {
     "data": {
      "text/plain": "         data_id dataset  repl  num_round       eta     gamma      lambda  \\\n0          41156     ada     1          6  0.691768  0.149889   89.037500   \n1          41156     ada     9        194  0.366143  0.000524   11.182800   \n2          41156     ada     5        383  0.994469  0.001833    0.768332   \n3          41156     ada     4         17  0.033558  0.000238    0.135247   \n4          41156     ada     3          8  0.002751  0.007462    0.002056   \n...          ...     ...   ...        ...       ...       ...         ...   \n3386861      181   yeast     3         13  0.002634  0.000003  368.937000   \n3386862      181   yeast     1        311  0.126755  0.000008   71.602700   \n3386863      181   yeast    10         30  0.147785  0.009881   16.992900   \n3386864      181   yeast     3        150  0.002076  0.000031  704.795000   \n3386865      181   yeast     2        127  0.142853  0.218487    0.066031   \n\n              alpha  subsample  max_depth  min_child_weight  colsample_bytree  \\\n0         60.341400   0.473925         10          19.64140          0.180667   \n1        186.245000   0.924288         10          22.58400          0.176551   \n2          0.148777   0.618795         11           2.72713          0.785381   \n3          0.355317   0.156704          7          66.54070          0.987907   \n4          0.063124   0.365757          4           1.06066          0.187789   \n...             ...        ...        ...               ...               ...   \n3386861   53.476300   0.435877          8          44.46210          0.736415   \n3386862    0.001683   0.904014         11           2.01811          0.922848   \n3386863   95.581100   0.288973         15          59.87200          0.434453   \n3386864    0.876104   0.880051         12          14.65480          0.364283   \n3386865   13.175400   0.295839         10           4.67909          0.097490   \n\n         colsample_bylevel  timetrain       auc  task_id  \n0                 0.750369      0.358  0.847134   168767  \n1                 0.504884      0.576  0.876018   168767  \n2                 0.444095      2.712  0.896378   168767  \n3                 0.685637      0.316  0.840724   168767  \n4                 0.899083      0.304  0.878050   168767  \n...                    ...        ...       ...      ...  \n3386861           0.383195      0.195  0.625862     2073  \n3386862           0.516069      2.714  0.862647     2073  \n3386863           0.421873      0.239  0.500000     2073  \n3386864           0.061496      0.609  0.783963     2073  \n3386865           0.185300      0.609  0.767091     2073  \n\n[3386866 rows x 16 columns]",
      "text/html": "<div>\n<style scoped>\n    .dataframe tbody tr th:only-of-type {\n        vertical-align: middle;\n    }\n\n    .dataframe tbody tr th {\n        vertical-align: top;\n    }\n\n    .dataframe thead th {\n        text-align: right;\n    }\n</style>\n<table border=\"1\" class=\"dataframe\">\n  <thead>\n    <tr style=\"text-align: right;\">\n      <th></th>\n      <th>data_id</th>\n      <th>dataset</th>\n      <th>repl</th>\n      <th>num_round</th>\n      <th>eta</th>\n      <th>gamma</th>\n      <th>lambda</th>\n      <th>alpha</th>\n      <th>subsample</th>\n      <th>max_depth</th>\n      <th>min_child_weight</th>\n      <th>colsample_bytree</th>\n      <th>colsample_bylevel</th>\n      <th>timetrain</th>\n      <th>auc</th>\n      <th>task_id</th>\n    </tr>\n  </thead>\n  <tbody>\n    <tr>\n      <th>0</th>\n      <td>41156</td>\n      <td>ada</td>\n      <td>1</td>\n      <td>6</td>\n      <td>0.691768</td>\n      <td>0.149889</td>\n      <td>89.037500</td>\n      <td>60.341400</td>\n      <td>0.473925</td>\n      <td>10</td>\n      <td>19.64140</td>\n      <td>0.180667</td>\n      <td>0.750369</td>\n      <td>0.358</td>\n      <td>0.847134</td>\n      <td>168767</td>\n    </tr>\n    <tr>\n      <th>1</th>\n      <td>41156</td>\n      <td>ada</td>\n      <td>9</td>\n      <td>194</td>\n      <td>0.366143</td>\n      <td>0.000524</td>\n      <td>11.182800</td>\n      <td>186.245000</td>\n      <td>0.924288</td>\n      <td>10</td>\n      <td>22.58400</td>\n      <td>0.176551</td>\n      <td>0.504884</td>\n      <td>0.576</td>\n      <td>0.876018</td>\n      <td>168767</td>\n    </tr>\n    <tr>\n      <th>2</th>\n      <td>41156</td>\n      <td>ada</td>\n      <td>5</td>\n      <td>383</td>\n      <td>0.994469</td>\n      <td>0.001833</td>\n      <td>0.768332</td>\n      <td>0.148777</td>\n      <td>0.618795</td>\n      <td>11</td>\n      <td>2.72713</td>\n      <td>0.785381</td>\n      <td>0.444095</td>\n      <td>2.712</td>\n      <td>0.896378</td>\n      <td>168767</td>\n    </tr>\n    <tr>\n      <th>3</th>\n      <td>41156</td>\n      <td>ada</td>\n      <td>4</td>\n      <td>17</td>\n      <td>0.033558</td>\n      <td>0.000238</td>\n      <td>0.135247</td>\n      <td>0.355317</td>\n      <td>0.156704</td>\n      <td>7</td>\n      <td>66.54070</td>\n      <td>0.987907</td>\n      <td>0.685637</td>\n      <td>0.316</td>\n      <td>0.840724</td>\n      <td>168767</td>\n    </tr>\n    <tr>\n      <th>4</th>\n      <td>41156</td>\n      <td>ada</td>\n      <td>3</td>\n      <td>8</td>\n      <td>0.002751</td>\n      <td>0.007462</td>\n      <td>0.002056</td>\n      <td>0.063124</td>\n      <td>0.365757</td>\n      <td>4</td>\n      <td>1.06066</td>\n      <td>0.187789</td>\n      <td>0.899083</td>\n      <td>0.304</td>\n      <td>0.878050</td>\n      <td>168767</td>\n    </tr>\n    <tr>\n      <th>...</th>\n      <td>...</td>\n      <td>...</td>\n      <td>...</td>\n      <td>...</td>\n      <td>...</td>\n      <td>...</td>\n      <td>...</td>\n      <td>...</td>\n      <td>...</td>\n      <td>...</td>\n      <td>...</td>\n      <td>...</td>\n      <td>...</td>\n      <td>...</td>\n      <td>...</td>\n      <td>...</td>\n    </tr>\n    <tr>\n      <th>3386861</th>\n      <td>181</td>\n      <td>yeast</td>\n      <td>3</td>\n      <td>13</td>\n      <td>0.002634</td>\n      <td>0.000003</td>\n      <td>368.937000</td>\n      <td>53.476300</td>\n      <td>0.435877</td>\n      <td>8</td>\n      <td>44.46210</td>\n      <td>0.736415</td>\n      <td>0.383195</td>\n      <td>0.195</td>\n      <td>0.625862</td>\n      <td>2073</td>\n    </tr>\n    <tr>\n      <th>3386862</th>\n      <td>181</td>\n      <td>yeast</td>\n      <td>1</td>\n      <td>311</td>\n      <td>0.126755</td>\n      <td>0.000008</td>\n      <td>71.602700</td>\n      <td>0.001683</td>\n      <td>0.904014</td>\n      <td>11</td>\n      <td>2.01811</td>\n      <td>0.922848</td>\n      <td>0.516069</td>\n      <td>2.714</td>\n      <td>0.862647</td>\n      <td>2073</td>\n    </tr>\n    <tr>\n      <th>3386863</th>\n      <td>181</td>\n      <td>yeast</td>\n      <td>10</td>\n      <td>30</td>\n      <td>0.147785</td>\n      <td>0.009881</td>\n      <td>16.992900</td>\n      <td>95.581100</td>\n      <td>0.288973</td>\n      <td>15</td>\n      <td>59.87200</td>\n      <td>0.434453</td>\n      <td>0.421873</td>\n      <td>0.239</td>\n      <td>0.500000</td>\n      <td>2073</td>\n    </tr>\n    <tr>\n      <th>3386864</th>\n      <td>181</td>\n      <td>yeast</td>\n      <td>3</td>\n      <td>150</td>\n      <td>0.002076</td>\n      <td>0.000031</td>\n      <td>704.795000</td>\n      <td>0.876104</td>\n      <td>0.880051</td>\n      <td>12</td>\n      <td>14.65480</td>\n      <td>0.364283</td>\n      <td>0.061496</td>\n      <td>0.609</td>\n      <td>0.783963</td>\n      <td>2073</td>\n    </tr>\n    <tr>\n      <th>3386865</th>\n      <td>181</td>\n      <td>yeast</td>\n      <td>2</td>\n      <td>127</td>\n      <td>0.142853</td>\n      <td>0.218487</td>\n      <td>0.066031</td>\n      <td>13.175400</td>\n      <td>0.295839</td>\n      <td>10</td>\n      <td>4.67909</td>\n      <td>0.097490</td>\n      <td>0.185300</td>\n      <td>0.609</td>\n      <td>0.767091</td>\n      <td>2073</td>\n    </tr>\n  </tbody>\n</table>\n<p>3386866 rows × 16 columns</p>\n</div>"
     },
     "metadata": {},
     "output_type": "display_data"
    }
   ],
   "source": [
    "runs_df = pd.read_csv(\"./data/xgboost_meta_data.csv\")\n",
    "display(runs_df)\n",
    "grouped_runs_all = runs_df.groupby(['data_id','num_round','eta','gamma','lambda','alpha','subsample','max_depth',\n",
    "                                 'min_child_weight','colsample_bytree',\t'colsample_bylevel'])"
   ],
   "metadata": {
    "collapsed": false,
    "pycharm": {
     "name": "#%%\n"
    }
   }
  },
  {
   "cell_type": "code",
   "execution_count": 34,
   "outputs": [
    {
     "name": "stderr",
     "output_type": "stream",
     "text": [
      "C:\\Users\\Korisnik\\AppData\\Local\\Temp\\ipykernel_1336\\251162663.py:1: FutureWarning: Indexing with multiple keys (implicitly converted to a tuple of keys) will be deprecated, use a list instead.\n",
      "  average_performance = grouped_runs_all['auc','timetrain'].mean().reset_index()\n"
     ]
    }
   ],
   "source": [
    "average_performance = grouped_runs_all['auc','timetrain'].mean().reset_index()\n",
    "display(average_performance)\n",
    "average_performance= average_performance.rename(columns={\"timetrain\": \"avg_time\",\"auc\":\"avg_auc\"})\n",
    "average_performance\n",
    "display(average_performance)\n",
    "#Save configuration info\n",
    "average_performance.to_csv('./data/average_performance.csv')"
   ],
   "metadata": {
    "collapsed": false,
    "pycharm": {
     "name": "#%%\n"
    }
   }
  },
  {
   "cell_type": "code",
   "execution_count": null,
   "outputs": [],
   "source": [
    "new_performancee = pd.read_csv('./data/average_performance.csv')\n",
    "new_performancee"
   ],
   "metadata": {
    "collapsed": false,
    "pycharm": {
     "name": "#%%\n"
    }
   }
  },
  {
   "cell_type": "code",
   "execution_count": 7,
   "outputs": [],
   "source": [
    "features_data = pd.read_csv('./data/features.csv')\n",
    "features_data\n",
    "\n",
    "joint_data = new_performancee.merge(features_data, on='data_id', how='inner', suffixes=('_features', '_meta'))"
   ],
   "metadata": {
    "collapsed": false,
    "pycharm": {
     "name": "#%%\n"
    }
   }
  },
  {
   "cell_type": "code",
   "execution_count": 10,
   "outputs": [
    {
     "data": {
      "text/plain": "Index(['index', 'data_id', 'num_round', 'eta', 'gamma', 'lambda', 'alpha',\n       'subsample', 'max_depth', 'min_child_weight', 'colsample_bytree',\n       'colsample_bylevel', 'avg_auc', 'avg_time', 'name', 'version', 'status',\n       'MajorityClassSize', 'MaxNominalAttDistinctValues', 'MinorityClassSize',\n       'NumberOfClasses', 'NumberOfFeatures', 'NumberOfInstances',\n       'NumberOfInstancesWithMissingValues', 'NumberOfMissingValues',\n       'NumberOfNumericFeatures', 'NumberOfSymbolicFeatures'],\n      dtype='object')"
     },
     "execution_count": 10,
     "metadata": {},
     "output_type": "execute_result"
    }
   ],
   "source": [
    "joint_data\n",
    "joint_data.columns"
   ],
   "metadata": {
    "collapsed": false,
    "pycharm": {
     "name": "#%%\n"
    }
   }
  },
  {
   "cell_type": "code",
   "execution_count": 11,
   "outputs": [],
   "source": [
    "joint_data = joint_data.drop(['index', 'version', 'status', ], axis=1)"
   ],
   "metadata": {
    "collapsed": false,
    "pycharm": {
     "name": "#%%\n"
    }
   }
  },
  {
   "cell_type": "code",
   "execution_count": 19,
   "outputs": [],
   "source": [
    "joint_data.to_csv('./data/joint_data.csv', index=False)"
   ],
   "metadata": {
    "collapsed": false,
    "pycharm": {
     "name": "#%%\n"
    }
   }
  },
  {
   "cell_type": "code",
   "execution_count": 23,
   "outputs": [
    {
     "data": {
      "text/plain": "         data_id   dataset  repl  num_round       eta      gamma  \\\n1584047        3  kr.vs.kp     5       2229  0.002322   0.001867   \n1584048        3  kr.vs.kp     2         21  0.054104  16.993300   \n1584049        3  kr.vs.kp     7         19  0.310291   0.040628   \n1584050        3  kr.vs.kp    10        163  0.001849   6.839170   \n1584051        3  kr.vs.kp     8         78  0.875102   0.000074   \n...          ...       ...   ...        ...       ...        ...   \n1618671        3  kr.vs.kp     5       1107  0.001357   0.000121   \n1618672        3  kr.vs.kp     3        241  0.004199   0.043291   \n1618673        3  kr.vs.kp     2         11  0.163341   0.116811   \n1618674        3  kr.vs.kp    10        703  0.443171   1.421790   \n1618675        3  kr.vs.kp     7          5  0.000997   6.215000   \n\n               lambda       alpha  subsample  max_depth  min_child_weight  \\\n1584047  1.540740e-01    1.404430   0.472078          6           4.86367   \n1584048  1.738250e+00    0.005468   0.535274          1           1.94360   \n1584049  5.939950e-02    0.003081   0.168891         12         204.00200   \n1584050  7.598670e-06  323.085000   0.427684          2          28.04800   \n1584051  3.298180e+02    0.002707   0.392376          3          60.54350   \n...               ...         ...        ...        ...               ...   \n1618671  3.016900e+01    0.097875   0.940669         12          21.91260   \n1618672  5.931660e-02  230.705000   0.101843          1          77.54370   \n1618673  3.096310e-02    0.075178   0.340919          7           6.15270   \n1618674  1.837010e-02    1.704480   0.601767         11         113.59400   \n1618675  1.123370e-07    0.019172   0.113741          3           7.60808   \n\n         colsample_bytree  colsample_bylevel  timetrain       auc  task_id  \n1584047          0.810864           0.146347     25.768  0.996908        3  \n1584048          0.893213           0.888359      0.395  0.923956        3  \n1584049          0.436624           0.189303      0.274  0.500000        3  \n1584050          0.953595           0.983874      0.685  0.500000        3  \n1584051          0.512986           0.530617      0.426  0.851481        3  \n...                   ...                ...        ...       ...      ...  \n1618671          0.406811           0.096966      1.899  0.954483        3  \n1618672          0.806288           0.814717      0.669  0.500000        3  \n1618673          0.502031           0.338327      0.578  0.976361        3  \n1618674          0.297409           0.373079      1.368  0.805980        3  \n1618675          0.685623           0.146710      0.258  0.816068        3  \n\n[34629 rows x 16 columns]",
      "text/html": "<div>\n<style scoped>\n    .dataframe tbody tr th:only-of-type {\n        vertical-align: middle;\n    }\n\n    .dataframe tbody tr th {\n        vertical-align: top;\n    }\n\n    .dataframe thead th {\n        text-align: right;\n    }\n</style>\n<table border=\"1\" class=\"dataframe\">\n  <thead>\n    <tr style=\"text-align: right;\">\n      <th></th>\n      <th>data_id</th>\n      <th>dataset</th>\n      <th>repl</th>\n      <th>num_round</th>\n      <th>eta</th>\n      <th>gamma</th>\n      <th>lambda</th>\n      <th>alpha</th>\n      <th>subsample</th>\n      <th>max_depth</th>\n      <th>min_child_weight</th>\n      <th>colsample_bytree</th>\n      <th>colsample_bylevel</th>\n      <th>timetrain</th>\n      <th>auc</th>\n      <th>task_id</th>\n    </tr>\n  </thead>\n  <tbody>\n    <tr>\n      <th>1584047</th>\n      <td>3</td>\n      <td>kr.vs.kp</td>\n      <td>5</td>\n      <td>2229</td>\n      <td>0.002322</td>\n      <td>0.001867</td>\n      <td>1.540740e-01</td>\n      <td>1.404430</td>\n      <td>0.472078</td>\n      <td>6</td>\n      <td>4.86367</td>\n      <td>0.810864</td>\n      <td>0.146347</td>\n      <td>25.768</td>\n      <td>0.996908</td>\n      <td>3</td>\n    </tr>\n    <tr>\n      <th>1584048</th>\n      <td>3</td>\n      <td>kr.vs.kp</td>\n      <td>2</td>\n      <td>21</td>\n      <td>0.054104</td>\n      <td>16.993300</td>\n      <td>1.738250e+00</td>\n      <td>0.005468</td>\n      <td>0.535274</td>\n      <td>1</td>\n      <td>1.94360</td>\n      <td>0.893213</td>\n      <td>0.888359</td>\n      <td>0.395</td>\n      <td>0.923956</td>\n      <td>3</td>\n    </tr>\n    <tr>\n      <th>1584049</th>\n      <td>3</td>\n      <td>kr.vs.kp</td>\n      <td>7</td>\n      <td>19</td>\n      <td>0.310291</td>\n      <td>0.040628</td>\n      <td>5.939950e-02</td>\n      <td>0.003081</td>\n      <td>0.168891</td>\n      <td>12</td>\n      <td>204.00200</td>\n      <td>0.436624</td>\n      <td>0.189303</td>\n      <td>0.274</td>\n      <td>0.500000</td>\n      <td>3</td>\n    </tr>\n    <tr>\n      <th>1584050</th>\n      <td>3</td>\n      <td>kr.vs.kp</td>\n      <td>10</td>\n      <td>163</td>\n      <td>0.001849</td>\n      <td>6.839170</td>\n      <td>7.598670e-06</td>\n      <td>323.085000</td>\n      <td>0.427684</td>\n      <td>2</td>\n      <td>28.04800</td>\n      <td>0.953595</td>\n      <td>0.983874</td>\n      <td>0.685</td>\n      <td>0.500000</td>\n      <td>3</td>\n    </tr>\n    <tr>\n      <th>1584051</th>\n      <td>3</td>\n      <td>kr.vs.kp</td>\n      <td>8</td>\n      <td>78</td>\n      <td>0.875102</td>\n      <td>0.000074</td>\n      <td>3.298180e+02</td>\n      <td>0.002707</td>\n      <td>0.392376</td>\n      <td>3</td>\n      <td>60.54350</td>\n      <td>0.512986</td>\n      <td>0.530617</td>\n      <td>0.426</td>\n      <td>0.851481</td>\n      <td>3</td>\n    </tr>\n    <tr>\n      <th>...</th>\n      <td>...</td>\n      <td>...</td>\n      <td>...</td>\n      <td>...</td>\n      <td>...</td>\n      <td>...</td>\n      <td>...</td>\n      <td>...</td>\n      <td>...</td>\n      <td>...</td>\n      <td>...</td>\n      <td>...</td>\n      <td>...</td>\n      <td>...</td>\n      <td>...</td>\n      <td>...</td>\n    </tr>\n    <tr>\n      <th>1618671</th>\n      <td>3</td>\n      <td>kr.vs.kp</td>\n      <td>5</td>\n      <td>1107</td>\n      <td>0.001357</td>\n      <td>0.000121</td>\n      <td>3.016900e+01</td>\n      <td>0.097875</td>\n      <td>0.940669</td>\n      <td>12</td>\n      <td>21.91260</td>\n      <td>0.406811</td>\n      <td>0.096966</td>\n      <td>1.899</td>\n      <td>0.954483</td>\n      <td>3</td>\n    </tr>\n    <tr>\n      <th>1618672</th>\n      <td>3</td>\n      <td>kr.vs.kp</td>\n      <td>3</td>\n      <td>241</td>\n      <td>0.004199</td>\n      <td>0.043291</td>\n      <td>5.931660e-02</td>\n      <td>230.705000</td>\n      <td>0.101843</td>\n      <td>1</td>\n      <td>77.54370</td>\n      <td>0.806288</td>\n      <td>0.814717</td>\n      <td>0.669</td>\n      <td>0.500000</td>\n      <td>3</td>\n    </tr>\n    <tr>\n      <th>1618673</th>\n      <td>3</td>\n      <td>kr.vs.kp</td>\n      <td>2</td>\n      <td>11</td>\n      <td>0.163341</td>\n      <td>0.116811</td>\n      <td>3.096310e-02</td>\n      <td>0.075178</td>\n      <td>0.340919</td>\n      <td>7</td>\n      <td>6.15270</td>\n      <td>0.502031</td>\n      <td>0.338327</td>\n      <td>0.578</td>\n      <td>0.976361</td>\n      <td>3</td>\n    </tr>\n    <tr>\n      <th>1618674</th>\n      <td>3</td>\n      <td>kr.vs.kp</td>\n      <td>10</td>\n      <td>703</td>\n      <td>0.443171</td>\n      <td>1.421790</td>\n      <td>1.837010e-02</td>\n      <td>1.704480</td>\n      <td>0.601767</td>\n      <td>11</td>\n      <td>113.59400</td>\n      <td>0.297409</td>\n      <td>0.373079</td>\n      <td>1.368</td>\n      <td>0.805980</td>\n      <td>3</td>\n    </tr>\n    <tr>\n      <th>1618675</th>\n      <td>3</td>\n      <td>kr.vs.kp</td>\n      <td>7</td>\n      <td>5</td>\n      <td>0.000997</td>\n      <td>6.215000</td>\n      <td>1.123370e-07</td>\n      <td>0.019172</td>\n      <td>0.113741</td>\n      <td>3</td>\n      <td>7.60808</td>\n      <td>0.685623</td>\n      <td>0.146710</td>\n      <td>0.258</td>\n      <td>0.816068</td>\n      <td>3</td>\n    </tr>\n  </tbody>\n</table>\n<p>34629 rows × 16 columns</p>\n</div>"
     },
     "metadata": {},
     "output_type": "display_data"
    }
   ],
   "source": [
    "#current_id = 3\n",
    "#runs = runs_df[runs_df['data_id']==current_id]\n",
    "#display(runs)\n",
    "#grouped_runs = runs.groupby(['num_round','eta','gamma','lambda','alpha','subsample','max_depth',\n",
    "#                                 'min_child_weight','colsample_bytree',\t'colsample_bylevel'])\n",
    "#grouped_runs.groups.keys()\n",
    "#mean_auc = grouped_runs['auc','timetrain'].mean().reset_index()\n",
    "#grouped_runs.count()\n",
    "#mean_auc\n",
    "\n"
   ],
   "metadata": {
    "collapsed": false,
    "pycharm": {
     "name": "#%%\n"
    }
   }
  }
 ],
 "metadata": {
  "kernelspec": {
   "name": "python3",
   "language": "python",
   "display_name": "Python 3 (ipykernel)"
  },
  "language_info": {
   "codemirror_mode": {
    "name": "ipython",
    "version": 2
   },
   "file_extension": ".py",
   "mimetype": "text/x-python",
   "name": "python",
   "nbconvert_exporter": "python",
   "pygments_lexer": "ipython2",
   "version": "2.7.6"
  }
 },
 "nbformat": 4,
 "nbformat_minor": 0
}